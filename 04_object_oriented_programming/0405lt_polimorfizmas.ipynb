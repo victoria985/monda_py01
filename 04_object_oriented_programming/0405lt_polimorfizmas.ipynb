{
 "cells": [
  {
   "cell_type": "markdown",
   "metadata": {},
   "source": [
    "# Polimorfizmas\n",
    "Polimorfizmas yra vienas iš objektiškai orientuoto programavimo principų. Jis suteikia galimybę naudoti tą pačią funkciją ar metodą su įvairių tipų objektais. Tai reiškia, kad skirtingų tipų ar skirtingai įgyvendinti objektai gali būti naudojami vienodai.\n",
    "\n",
    "Polimorfizmas prisideda prie programos lankstumo, naudojimo patogumo ir kodų aiškumo, nes programuotojui lengviau pritaikyti kodą ateičiai galimiems pakeitimams."
   ]
  },
  {
   "cell_type": "markdown",
   "metadata": {},
   "source": [
    "--- \n",
    "## Metodo perrašymas\n",
    "Metodo perrašymas yra galimybė perrašyti tėvinių klasės metodą paveldėtoje klasėje ir suteikti jam naują implementaciją. Tai yra galima dėl to, kad paveldėtoje klasėje jau yra aprašytas tėvinės klasės metodas su tokiu pat pavadinimu.\n",
    "\n",
    "Metodų perrašymas leidžia mums kurti specializuotas klases, kurios gali modifikuoti ar papildyti tėvinės klasės funkcionalumą, nekeičiant paties tėvinės klasės kodo. Be to, metodas paveldėtoje klasėje gali turėti papildomus argumentus, kurių gali nebūti tėvinėje klasėje."
   ]
  },
  {
   "cell_type": "code",
   "execution_count": null,
   "metadata": {},
   "outputs": [],
   "source": [
    "class Automobilis:\n",
    "    def __init__(self, marke, modelis):\n",
    "        self.marke = marke\n",
    "        self.modelis = modelis\n",
    "\n",
    "    def greitis(self):\n",
    "        print('Šis automobilis važiuoja leistinu greičiu')\n",
    "\n",
    "\n",
    "class SportinisAutomobilis(Automobilis):\n",
    "    def greitis(self):\n",
    "        print('Šis automobilis gali važiuoti iki 300 km/h')\n",
    "\n",
    "\n",
    "class IstorinisAutomobilis(Automobilis):\n",
    "    def greitis(self):\n",
    "        print('Šis automobilis gali važiuoti iki 100 km/h')\n",
    "\n",
    "\n",
    "def informacija(automobilis):\n",
    "    automobilis.greitis()"
   ]
  },
  {
   "cell_type": "markdown",
   "metadata": {},
   "source": [
    "Iškvietę sukurtą funkciją su skirtingoms klasės priklausančiais objektais, gausime skirtingą rezultatą:"
   ]
  },
  {
   "cell_type": "code",
   "execution_count": null,
   "metadata": {},
   "outputs": [],
   "source": [
    "ferrari = SportinisAutomobilis('Ferrari', '458 Italia')\n",
    "ford = IstorinisAutomobilis('Ford', 'Model T')\n",
    "audi = Automobilis(\"Audi\", \"A4\")\n",
    "\n",
    "informacija(ferrari) # Šis automobilis gali važiuoti iki 300 km/h\n",
    "informacija(ford) # Šis automobilis gali važiuoti iki 100 km/h\n",
    "informacija(audi) # Šis automobilis važiuoja leistinu greičiu"
   ]
  },
  {
   "cell_type": "markdown",
   "metadata": {},
   "source": [
    "### Užduotis 1: Metodo Perrašymas\n",
    "\n",
    "1. Sukurkite Python programą, kuri apibrėžtų bazinę klasę `Animal` su metodu `make_sound()`.\n",
    "1. Tada sukurkite dvi išvestines klases, `Dog` ir `Cat`, kurios paveldėtų iš `Animal` klasės.\n",
    "1. Perrašykite metodą `make_sound()` abiejose išvestinėse klasėse taip, kad šuo lotų ir katė miauktų, atitinkamai.\n",
    "1. Galiausiai, sukurkite `Dog` ir `Cat` klasių objektus ir iškvieskite jų metodus `make_sound()`."
   ]
  },
  {
   "cell_type": "code",
   "execution_count": 8,
   "metadata": {},
   "outputs": [
    {
     "name": "stdout",
     "output_type": "stream",
     "text": [
      "Suo sako Vaf, vaf, vaf\n",
      "Kate sako Miau, miau, miau\n"
     ]
    }
   ],
   "source": [
    "# jusu kodo vieta\n",
    "class Animal:\n",
    "    def __init__(self, vardas):\n",
    "        self.vardas = vardas\n",
    "\n",
    "    def make_sound(self):\n",
    "        print('Gyvunas skleidzia garsa:')\n",
    "\n",
    "class Dog(Animal):\n",
    "    def make_sound(self):\n",
    "        print(\"Suo sako Vaf, vaf, vaf\")\n",
    "\n",
    "class Cat(Animal):\n",
    "    def make_sound(self):\n",
    "        print('Kate sako Miau, miau, miau')  \n",
    "\n",
    "animal = Animal()\n",
    "bimas = Dog('Bimas')\n",
    "murke = Cat('Murke')\n",
    "\n",
    "\n",
    "bimas.make_sound()  \n",
    "murke.make_sound()\n",
    "\n",
    "\n",
    "\n",
    "\n"
   ]
  },
  {
   "cell_type": "markdown",
   "metadata": {},
   "source": [
    "---\n",
    "## Paveldėto metodo iškvietimas\n",
    "Kai norite panaudoti paveldėtus tėvinės klasės metodus ir savybes, tačiau tuo pat metu norite pakeisti jų veikimą naudojama `super()` funkcija. Tai leidžia mums išlaikyti tėvinės klasės funkcionalumą, tuo pat metu pridedant savo papildomą funkcionalumą. Pavyzdys.:"
   ]
  },
  {
   "cell_type": "code",
   "execution_count": 9,
   "metadata": {},
   "outputs": [],
   "source": [
    "class Automobilis:\n",
    "    def __init__(self, marke, modelis):\n",
    "        self.marke = marke\n",
    "        self.modelis = modelis\n",
    "\n",
    "    def greitis(self):\n",
    "        print('Šis automobilis važiuoja leistinu greičiu')\n",
    "\n",
    "\n",
    "class SportinisAutomobilis(Automobilis):\n",
    "    def greitis(self):\n",
    "        super().greitis()\n",
    "        print('Šis automobilis gali važiuoti iki 300 km/h')\n",
    "\n",
    "\n",
    "def informacija(automobilis):\n",
    "    automobilis.greitis()"
   ]
  },
  {
   "cell_type": "markdown",
   "metadata": {},
   "source": [
    "Iškvietę sukurtą funkciją su objektu, kuris paveldi tėvinės klasės metodą, gausime toki rezultatą:"
   ]
  },
  {
   "cell_type": "code",
   "execution_count": null,
   "metadata": {},
   "outputs": [],
   "source": [
    "ferrari = SportinisAutomobilis('Ferrari', '458 Italia')\n",
    "\n",
    "informacija(ferrari)    # Šis automobilis važiuoja leistinu greičiu\n",
    "                        # Šis automobilis gali važiuoti iki 300 km/h"
   ]
  },
  {
   "cell_type": "markdown",
   "metadata": {},
   "source": [
    "### Antra užduotis: Darbuotojo informacija\n",
    "\n",
    "1. Sukurkite `darbuotojų` klasę su savybėmis `vardas`, `pavarde` ir `atlyginimas`, kuri turėtų metodą atspausdinantį darbuotojo informaciją.\n",
    "1. Sukurkite `administratoriaus` klasę, kuri paveldėtų savybes iš darbuotojo klasės.\n",
    "1. Sukurkite `vadovo` klasę, kuri paveldėtų savybes iš darbuotojo klasės ir turėtų papildomą savybę \"`premija`\" bei metodą, kuris atspausdins papildytą darbuotojo informaciją.\n",
    "1. Sukurkite kelis kiekvienos klasės objektus ir iškvieskite informacijos spausdinimo metodą."
   ]
  },
  {
   "cell_type": "code",
   "execution_count": 19,
   "metadata": {},
   "outputs": [
    {
     "name": "stdout",
     "output_type": "stream",
     "text": [
      "darbuotojas:\tJony Bill, atlyginimas: 1200 €\n",
      "darbuotojas:\tBen Klaim, atlyginimas: 1200 €\n",
      "admin:\t\tLiusi Klaim, atlyginimas: 1500 €\n",
      "vadovas:\tNilson Carry, atlyginimas: 2500 €\n",
      "Premija: visiems darbuotojams uz gerus pasiekimus 700 €\n"
     ]
    }
   ],
   "source": [
    "# jusu kodo vieta\n",
    "class Darbuotojai():\n",
    "    def __init__(self, vardas, pavarde, atlyginimas):\n",
    "        self.vardas = vardas\n",
    "        self.pavarde = pavarde\n",
    "        self.atlyginimas = atlyginimas\n",
    "        \n",
    "\n",
    "    def info(self):\n",
    "        print(f'{self.vardas} {self.pavarde}, atlyginimas: {self.atlyginimas} €')        \n",
    "\n",
    "   \n",
    "class Administratoriai(Darbuotojai):\n",
    "    def info(self):\n",
    "        print(f'{self.vardas} {self.pavarde}, atlyginimas: {self.atlyginimas} €') \n",
    "\n",
    "\n",
    "class Vadovai(Darbuotojai):\n",
    "    def __init__(self, vardas, pavarde, atlyginimas, premija):\n",
    "        super().__init__(vardas, pavarde, atlyginimas)\n",
    "        self.premija = premija\n",
    "\n",
    "    def info(self):\n",
    "        super().info()\n",
    "        print(f'Premija: visiems darbuotojams uz gerus pasiekimus {self.premija} €')\n",
    "\n",
    "\n",
    "pirmas_darbuotojas = Darbuotojai('darbuotojas:''\\t''Jony', 'Bill', 1200)\n",
    "antras_darbuotojas = Darbuotojai('darbuotojas:''\\t''Ben', 'Klaim', 1200)\n",
    "admin_darbuotojas = Administratoriai('admin:''\\t''\\t''Liusi', 'Klaim', 1500)\n",
    "vadovas = Vadovai('vadovas:''\\t''Nilson', 'Carry', 2500, 700)\n",
    "\n",
    "darbuotojai = [pirmas_darbuotojas, antras_darbuotojas, admin_darbuotojas, vadovas]\n",
    "\n",
    "for darbuotojas in darbuotojai:\n",
    "    darbuotojas.info()\n",
    "   \n",
    "\n",
    "\n",
    "    \n",
    "\n",
    "        \n",
    "\n",
    "               \n",
    "        "
   ]
  },
  {
   "cell_type": "code",
   "execution_count": null,
   "metadata": {},
   "outputs": [],
   "source": []
  }
 ],
 "metadata": {
  "kernelspec": {
   "display_name": "venv",
   "language": "python",
   "name": "python3"
  },
  "language_info": {
   "codemirror_mode": {
    "name": "ipython",
    "version": 3
   },
   "file_extension": ".py",
   "mimetype": "text/x-python",
   "name": "python",
   "nbconvert_exporter": "python",
   "pygments_lexer": "ipython3",
   "version": "3.12.1"
  }
 },
 "nbformat": 4,
 "nbformat_minor": 2
}
