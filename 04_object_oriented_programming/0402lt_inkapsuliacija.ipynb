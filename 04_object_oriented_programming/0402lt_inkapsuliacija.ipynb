{
 "cells": [
  {
   "cell_type": "markdown",
   "metadata": {},
   "source": [
    "# Inkapsuliacija\n",
    "\n",
    "`Inkapsuliacija` yra objektinio programavimo konceptas, kuris apjungia duomenis ir metodus juos apdorojant į vieną vienetą – klasę. Ji padeda apsaugoti objekto būseną nuo netinkamo prieinamumo ar modifikacijos iš išorės. `Inkapsuliacija` leidžia programuotojams sukurti sąsają, per kurią galima saugiai bendrauti su objekto duomenimis. Tai įgalina duomenų ir metodų paslėpimą, užtikrindama, kad objekto naudojimas būtų atliekamas kaip numatyta. Dėl šios savybės kodo priežiūra tampa lengvesnė ir galima išvengti netikėtų klaidų."
   ]
  },
  {
   "cell_type": "markdown",
   "metadata": {},
   "source": [
    "---\n",
    "\n",
    "## Privatūs Atributai\n",
    "\n",
    "`Privatūs atributai` yra klasės komponentai, kurie negali būti tiesiogiai prieinami iš klasės išorės. Tai reiškia, kad juos galima pakeisti arba skaityti tik per klasės metodus. Python kalboje, privatūs kintamieji paprastai sukuriami pridedant `du pabrauktukus` prieš kintamojo pavadinimą (pvz., `__spalva`).\n",
    "\n",
    "Pavyzdžiui:"
   ]
  },
  {
   "cell_type": "code",
   "execution_count": 1,
   "metadata": {},
   "outputs": [],
   "source": [
    "class Automobilis:\n",
    "    def __init__(self, marke, modelis, metai=2023, spalva='pilka'):\n",
    "        self.marke = marke\n",
    "        self.modelis = modelis\n",
    "        self.__metai = metai\n",
    "        self.__spalva = spalva\n",
    "\n",
    "    def gauti_metus(self):\n",
    "        return self.__metai\n",
    "\n",
    "    def gauti_spalva(self):\n",
    "        return self.__spalva"
   ]
  },
  {
   "cell_type": "code",
   "execution_count": 4,
   "metadata": {},
   "outputs": [
    {
     "name": "stdout",
     "output_type": "stream",
     "text": [
      "Mercedes\n",
      "C-Class\n",
      "2023\n",
      "pilka\n"
     ]
    }
   ],
   "source": [
    "mersas = Automobilis('Mercedes', 'C-Class')\n",
    "\n",
    "print(mersas.marke)  # Mercedes\n",
    "print(mersas.modelis)  # C-Class\n",
    "print(mersas.gauti_metus())  # 2023\n",
    "print(mersas.gauti_spalva())  # pilka"
   ]
  },
  {
   "cell_type": "code",
   "execution_count": 10,
   "metadata": {},
   "outputs": [
    {
     "name": "stdout",
     "output_type": "stream",
     "text": [
      "Mersas C-Class pilka\n"
     ]
    }
   ],
   "source": [
    "mersas.marke = \"Mersas\"\n",
    "mersas.__spalva = \"juodas\"\n",
    "print(mersas.marke, mersas.modelis, mersas.gauti_spalva())"
   ]
  },
  {
   "cell_type": "markdown",
   "metadata": {},
   "source": [
    "Tai demonstruoja \n",
    "- `Automobilis` klasės objekto su konkrečiais atributais sukūrimą, \n",
    "- Atributų gavimą naudojant gavimo metodus "
   ]
  },
  {
   "cell_type": "markdown",
   "metadata": {},
   "source": [
    "### Greita užduotis 1: Automobilio Klasės Papildymas\n",
    "\n",
    "- Pridėti privačią savybę `__rida`, kuri saugotų automobilio nuvažiuotus kilometrus. Pradinė `__rida` reikšmė turėtų būti 0.\n",
    "- Sukurti metodą `vaziuoti(kilometrai)`, kuris pridėtų argumente nurodytą kilometrų skaičių prie automobilio ridos ir atspausdintų pranešimą apie tai.\n",
    "- Sukurti metodą `gauti_rida()`, kuris grąžintų automobilio bendrą nuvažiuotų kilometrų skaičių."
   ]
  },
  {
   "cell_type": "code",
   "execution_count": 7,
   "metadata": {},
   "outputs": [
    {
     "name": "stdout",
     "output_type": "stream",
     "text": [
      "Automobilis Mercedes, C-Class nuvaziavo 50 km\n",
      "Bendra auto info Mercedes, C-Class, nuvaziuota rida 50 km\n"
     ]
    }
   ],
   "source": [
    "# jusu kodo vieta\n",
    "class Automobilis:\n",
    "    def __init__(self, marke, modelis, metai=2023, spalva='pilka', rida = 0):\n",
    "        self.marke = marke\n",
    "        self.modelis = modelis\n",
    "        self.__metai = metai\n",
    "        self.__spalva = spalva\n",
    "        self.__rida = rida\n",
    "\n",
    "    def gauti_metus(self):\n",
    "        return self.__metai\n",
    "\n",
    "    def gauti_spalva(self):\n",
    "        return self.__spalva\n",
    "    \n",
    "    def vaziuoti(self, kilometrai):\n",
    "        self.__rida += kilometrai\n",
    "        print(f'Automobilis {self.marke}, {self.modelis} nuvaziavo {kilometrai} km')\n",
    "\n",
    "    def gauti_rida(self):\n",
    "        return self.__rida\n",
    "\n",
    "trecias_automobilis = Automobilis('Mercedes', 'C-Class') \n",
    "trecias_automobilis.vaziuoti(50)   \n",
    "print(f'Bendra auto info {trecias_automobilis.marke}, {trecias_automobilis.modelis}, nuvaziuota rida {trecias_automobilis.gauti_rida()} km')"
   ]
  },
  {
   "cell_type": "markdown",
   "metadata": {},
   "source": [
    "---\n",
    "\n",
    "## Privatūs metodai \n",
    "\n",
    "`Privatūs metodai` yra klasės metodai, kurie taip pat nėra tiesiogiai prieinami iš klasės išorės. Jie dažnai naudojami vidinėje klasės logikoje ir yra skirti tik klasės naudojimui. Python kalboje privatūs metodai taip pat sukuriami pridedant `du pabrauktukus` prieš metodo pavadinimą (pvz., `__pakeisti_spalva()`)."
   ]
  },
  {
   "cell_type": "code",
   "execution_count": 11,
   "metadata": {},
   "outputs": [],
   "source": [
    "class Automobilis:\n",
    "    def __init__(self, marke, modelis, metai=2024, spalva='pilka'):\n",
    "        self.marke = marke\n",
    "        self.modelis = modelis\n",
    "        self.__metai = metai\n",
    "        self.__spalva = spalva\n",
    "\n",
    "    def gauti_metus(self):\n",
    "        return self.__metai\n",
    "\n",
    "    def gauti_spalva(self):\n",
    "        return self.__spalva\n",
    "\n",
    "    def __pakeisti_spalva(self, nauja_spalva):\n",
    "        self.__spalva = nauja_spalva\n",
    "\n",
    "    def perdazyti(self, nauja_spalva):\n",
    "        if len(nauja_spalva) > len(self.__spalva):\n",
    "            self.__pakeisti_spalva(nauja_spalva)\n",
    "        else:\n",
    "            print(\"del keistu priezasciu perdazyti negalima\")"
   ]
  },
  {
   "cell_type": "code",
   "execution_count": 19,
   "metadata": {},
   "outputs": [
    {
     "name": "stdout",
     "output_type": "stream",
     "text": [
      "pilka\n",
      "Toyota\n",
      "Corolla\n",
      "2020\n",
      "Raudona\n",
      "del keistu priezasciu perdazyti negalima\n",
      "Raudona\n"
     ]
    }
   ],
   "source": [
    "zaislinis = Automobilis(marke='Toyota', modelis='Corolla', metai=2020)\n",
    "print(zaislinis.gauti_spalva()) # pilka\n",
    "zaislinis.perdazyti('Raudona')\n",
    "print(zaislinis.marke)  # Toyota\n",
    "print(zaislinis.modelis)  # Corolla\n",
    "print(zaislinis.gauti_metus())  # 2020\n",
    "print(zaislinis.gauti_spalva()) # Raudona\n",
    "zaislinis.perdazyti(\"balta\")\n",
    "# zaislinis.__pakeisti_spalva(\"juoda\") # nepasileidzia\n",
    "print(zaislinis.gauti_spalva()) # Raudona\n"
   ]
  },
  {
   "cell_type": "markdown",
   "metadata": {},
   "source": [
    "Tai demonstruoja \n",
    "- `Automobilis` klasės objekto su konkrečiais atributais sukūrimą, \n",
    "- Atributų gavimą naudojant gavimo metodus \n",
    "- `__spalva` atributo atnaujinimą naudojant viešąjį `perdazyti` metodą."
   ]
  },
  {
   "cell_type": "markdown",
   "metadata": {},
   "source": [
    "*Priminimas*: `Inkapsuliacija` yra svarbi, nes ji padeda užtikrinti kodo saugumą, sumažina klaidų tikimybę ir padidina kodo prieinamumo tvarkymą."
   ]
  },
  {
   "cell_type": "markdown",
   "metadata": {},
   "source": [
    "### Greita užduotis 2: Banko Sąskaitos Klasė\n",
    "\n",
    "### Klasės Kintamieji\n",
    "- `sąskaitos_numeris` - viešas kintamasis\n",
    "- `savininkas` - viešas kintamasis\n",
    "- `likutis` - privatus kintamasis\n",
    "- `PIN_kodas` - privatus kintamasis\n",
    "\n",
    "### Metodai\n",
    "#### Pinigų Išėmimas\n",
    "- Sukurkite metodą `isimti_pinigus`, kuris leidžia išgryninti pinigus iš sąskaitos.\n",
    "- PIN kodas, reikalingas pinigų išėmimui, turi būti patikrintas ir žinomas tik klasės viduje.\n",
    "\n",
    "#### Pinigų Įnešimas\n",
    "- Sukurkite metodą `ideti_pinigus`, kuris leidžia įnešti pinigų į sąskaitą."
   ]
  },
  {
   "cell_type": "code",
   "execution_count": 4,
   "metadata": {},
   "outputs": [
    {
     "name": "stdout",
     "output_type": "stream",
     "text": [
      "Lt9370440256987259\n",
      "Lana Reme\n",
      "Išimta 1000 Eur, likutis 1598 Eur\n",
      "Įdėta pinigų 500 Eur, šio meto likutis yra 2098 Eur\n"
     ]
    }
   ],
   "source": [
    "# jusu kodo vieta\n",
    "class Banko_saskaita():\n",
    "    def __init__(self, saskaitos_numeris, savininkas, likutis, Pin_kodas) -> None:\n",
    "        self.saskaitos_numeris = saskaitos_numeris\n",
    "        self.savininkas = savininkas\n",
    "        self.__likutis = likutis\n",
    "        self.__Pin_kodas = Pin_kodas\n",
    "\n",
    "    def isimti_pinigus(self, suma, Pin_kodas):\n",
    "        if Pin_kodas == self.__Pin_kodas:\n",
    "            if suma < self.__likutis and self.__likutis != 0:\n",
    "                self.__likutis -= suma\n",
    "                return f'Išimta {suma} Eur, likutis {self.__likutis} Eur'\n",
    "            else:\n",
    "                return 'Neteisingas Pin kodas.'\n",
    "\n",
    "    def ideti_pinigus(self, suma, Pin_kodas):\n",
    "        if Pin_kodas == self.__Pin_kodas and suma > 0:\n",
    "            self.__likutis += suma\n",
    "            return f'Įdėta pinigų {suma} Eur, šio meto likutis yra {self.__likutis} Eur'\n",
    "        else:\n",
    "            return 'Neteisingas Pin kodas.'\n",
    "\n",
    "# Sukurta sąskaitą\n",
    "eur_saskaita = Banko_saskaita('Lt9370440256987259', 'Lana Reme', likutis=2598, Pin_kodas=5987)\n",
    "\n",
    "# Spausdinam sąskaitos informaciją\n",
    "print(eur_saskaita.saskaitos_numeris)\n",
    "print(eur_saskaita.savininkas)\n",
    "\n",
    "# Isimti pinigus\n",
    "atsakymas_isimti = eur_saskaita.isimti_pinigus(1000, 5987)\n",
    "print(atsakymas_isimti)\n",
    "\n",
    "# Idėti pinigus\n",
    "atsakymas_ideti = eur_saskaita.ideti_pinigus(500, 5987)\n",
    "print(atsakymas_ideti)\n",
    "\n",
    "\n",
    "        \n",
    "        "
   ]
  },
  {
   "cell_type": "markdown",
   "metadata": {},
   "source": [
    "---\n",
    "\n",
    "### Bonus Užduotis: Knygų Klasė\n",
    "\n",
    "### Apžvalga\n",
    "Sukurkite `Book` klasę, kuri atitiktų šias specifikacijas.\n",
    "\n",
    "### Klasės Specifikacija\n",
    "\n",
    "1. **Kintamieji**\n",
    "   - Sukurkite šiuos privačius kintamuosius:\n",
    "     - `__title` (pavadinimas): knygos pavadinimas\n",
    "     - `__author` (autorius): knygos autoriaus vardas\n",
    "     - `__condition` (būklė): knygos būklė\n",
    "     - `__page_count` (puslapių skaičius): puslapių skaičius knygoje\n",
    "\n",
    "2. **Metodai Duomenims Gauti**\n",
    "   - Sukurkite viešus metodus, kad gautumėte kiekvieną privačią savybę:\n",
    "     - `get_title` - grąžina knygos pavadinimą\n",
    "     - `get_author` - grąžina autoriaus vardą\n",
    "     - `get_condition` - grąžina knygos būklę\n",
    "     - `get_page_count` - grąžina puslapių skaičių\n",
    "\n",
    "3. **Būklės Keitimo Metodas**\n",
    "   - Sukurkite viešą metodą `change_condition`, kuris priima vieną argumentą:\n",
    "     - `new_condition` - nauja knygos būklė, kuri gali būti viena iš šių reikšmių: 'patenkinama', 'prasta', 'atnaujinta', 'sugadinta'.\n",
    "     - Šis metodas turi patikrinti, ar `new_condition` yra viena iš leistinų reikšmių ir, jei taip, atnaujinti knygos būklę.\n",
    "\n",
    "4. **Puslapių Skaičiaus Mažinimo Metodas**\n",
    "   - Sukurkite privatų metodą `__decrease_page_count`, kuris priima vieną argumentą:\n",
    "     - `decrease_by` - skaičius, kiek puslapių reikia sumažinti.\n",
    "     - Šis metodas turėtų sumažinti `__page_count` reikšmę, bet negali leisti puslapių skaičiui tapti neigiamu.\n",
    "   - Sukurkite viešą metodą `remove_pages`, kuris kviečia `__decrease_page_count` metodą.\n",
    "\n",
    "## Reikalavimai\n",
    "\n",
    "- Užtikrinkite, kad visi kintamieji būtų privačiai prieinami tik klasei.\n",
    "- Visi viešieji metodai turi būti saugūs ir neturi leisti objekto būsenai tapti neteisingai (pvz., puslapių skaičius negali būti neigiamas).\n",
    "- Viešieji metodai turėtų turėti prasmingus patikrinimus, kad būtų išvengta netinkamo jų naudojimo."
   ]
  },
  {
   "cell_type": "code",
   "execution_count": 7,
   "metadata": {},
   "outputs": [],
   "source": [
    "# jusu kodo vieta\n",
    "class Knyga():\n",
    "    def __init__(self, pavadinimas, autorius, bukle, puslapiu_skaicius):\n",
    "       self.__pavadinimas = pavadinimas\n",
    "       self.__autorius = autorius\n",
    "       self.__bukle = bukle\n",
    "       self.__puslapiu_skaicius = puslapiu_skaicius\n",
    "\n",
    "    def get_pavadinimas(self):\n",
    "        return self.__pavadinimas\n",
    "    \n",
    "    def get_autorius(self):\n",
    "        return self.__autorius\n",
    "    \n",
    "    def get_bukle(self):\n",
    "        return self.__bukle\n",
    "    \n",
    "    def get_puslapiu_skaicius(self):\n",
    "        return self.__puslapiu_skaicius\n",
    "    \n",
    "    def pakeisti_bukle(self, nauja_bukle):\n",
    "        pakeitimu_galemybes = ['patenkinama', 'prasta', 'atnaujinta', 'sugadinta']\n",
    "        if nauja_bukle in pakeitimu_galemybes:\n",
    "            self.__bukle = nauja_bukle\n",
    "        else:\n",
    "            print(\"Netinkama būklė. Galimos reikšmės: patenkinama, prasta, atnaujinta, sugadinta\")\n",
    "\n",
    "   \n"
   ]
  }
 ],
 "metadata": {
  "kernelspec": {
   "display_name": "venv",
   "language": "python",
   "name": "python3"
  },
  "language_info": {
   "codemirror_mode": {
    "name": "ipython",
    "version": 3
   },
   "file_extension": ".py",
   "mimetype": "text/x-python",
   "name": "python",
   "nbconvert_exporter": "python",
   "pygments_lexer": "ipython3",
   "version": "3.12.1"
  }
 },
 "nbformat": 4,
 "nbformat_minor": 2
}
