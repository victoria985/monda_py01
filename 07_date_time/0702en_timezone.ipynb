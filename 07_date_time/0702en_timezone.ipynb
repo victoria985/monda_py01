{
 "cells": [
  {
   "cell_type": "markdown",
   "metadata": {},
   "source": [
    "# Time Zones\n",
    "\n",
    "### Aware and Naive Date/Time Objects\n",
    "\n",
    "In the Python datetime module, there are two main types of date and time objects: \"aware\" and \"naive.\" \"Naive\" date and time objects lack information about time zones or switching to summer time, making them inconvenient when dealing with changes in time zones. \n",
    "\n",
    "\"Aware\" objects contain information about time zones and switching to summer time.\n",
    "\n",
    "### `datetime.utcnow()`\n",
    "\n",
    "To obtain the current time in Coordinated Universal Time (UTC), you can use the datetime.utcnow() function:\n",
    "\n"
   ]
  },
  {
   "cell_type": "code",
   "execution_count": null,
   "metadata": {},
   "outputs": [],
   "source": [
    "\n",
    "from datetime import datetime\n",
    "\n",
    "utc_now = datetime.utcnow()\n",
    "print(utc_now)\n"
   ]
  },
  {
   "cell_type": "markdown",
   "metadata": {},
   "source": [
    "\n",
    "### Time Zone List, zoneinfo Module\n",
    "\n",
    "In Python 3.9 and later versions, the zoneinfo module allows working with time zones:\n",
    "\n"
   ]
  },
  {
   "cell_type": "code",
   "execution_count": null,
   "metadata": {},
   "outputs": [],
   "source": [
    "\n",
    "from zoneinfo import ZoneInfo\n",
    "from datetime import datetime\n",
    "\n",
    "# Create an \"aware\" datetime object with a specified time zone\n",
    "time = datetime(2023, 4, 12, 18, 30, tzinfo=ZoneInfo(\"Europe/Vilnius\"))\n",
    "print(time)\n",
    "\n"
   ]
  },
  {
   "cell_type": "markdown",
   "metadata": {},
   "source": [
    "\n",
    "You can use this module to output a list of time zones it supports:\n",
    "\n"
   ]
  },
  {
   "cell_type": "code",
   "execution_count": 2,
   "metadata": {},
   "outputs": [],
   "source": [
    "from zoneinfo import available_timezones\n",
    "\n",
    "for time_zone in available_timezones():\n",
    "    print(time_zone)\n",
    "    \n"
   ]
  },
  {
   "cell_type": "markdown",
   "metadata": {},
   "source": [
    "### Quick Assignement 1\n",
    "\n",
    "Write a program that outputs a list of all time zones with \"America\" in their name."
   ]
  },
  {
   "cell_type": "markdown",
   "metadata": {},
   "source": [
    "### `datetime.tzinfo`\n",
    "\n",
    "datetime.tzinfo is an abstract class used to store time zone information. You can use functions from the `zoneinfo` module to populate the `tzinfo` attribute when creating a new \"aware\" datetime object:\n"
   ]
  },
  {
   "cell_type": "code",
   "execution_count": null,
   "metadata": {},
   "outputs": [],
   "source": [
    "\n",
    "from datetime import datetime\n",
    "from zoneinfo import ZoneInfo\n",
    "\n",
    "time = datetime(2023, 4, 12, 18, 30, tzinfo=ZoneInfo(\"Europe/Vilnius\"))\n",
    "print(time.tzinfo)\n",
    "\n"
   ]
  },
  {
   "cell_type": "markdown",
   "metadata": {},
   "source": [
    "\n",
    "### Specifying Time Zone in datetime.datetime Object\n",
    "\n",
    "To specify the time zone in a datetime.datetime object, you can use the replace() function or the astimezone() function.\n",
    "\n",
    "Example with replace():\n"
   ]
  },
  {
   "cell_type": "code",
   "execution_count": null,
   "metadata": {},
   "outputs": [],
   "source": [
    "\n",
    "from datetime import datetime\n",
    "from zoneinfo import ZoneInfo\n",
    "\n",
    "utc_now = datetime.utcnow()\n",
    "vilnius_time = utc_now.replace(tzinfo=ZoneInfo(\"UTC\")).astimezone(ZoneInfo(\"Europe/Vilnius\"))\n",
    "print(vilnius_time)\n"
   ]
  },
  {
   "cell_type": "markdown",
   "metadata": {},
   "source": [
    "\n",
    "Example with astimezone():\n"
   ]
  },
  {
   "cell_type": "code",
   "execution_count": null,
   "metadata": {},
   "outputs": [],
   "source": [
    "\n",
    "\n",
    "from datetime import datetime\n",
    "from zoneinfo import ZoneInfo\n",
    "\n",
    "utc_now = datetime.utcnow().replace(tzinfo=ZoneInfo(\"UTC\"))\n",
    "vilnius_time = utc_now.astimezone(ZoneInfo(\"Europe/Vilnius\"))\n",
    "print(vilnius_time)\n"
   ]
  },
  {
   "cell_type": "markdown",
   "metadata": {},
   "source": [
    "\n",
    "Both examples first create a datetime.datetime object reflecting the current time in Coordinated Universal Time (UTC). Then, they use the replace() or astimezone() function to change the time zone to \"Europe/Vilnius\" and output the result on the screen."
   ]
  },
  {
   "cell_type": "markdown",
   "metadata": {},
   "source": [
    "### Quick Assignement 2\n",
    "\n",
    "Write a program that asks the user for the time in HH:MM(:SS) format, where seconds are not necessary. Then ask for a time zone. Print the entered time in the following time zones: Sydney, Dubai, Vilnius, London, New York and Los Angeles."
   ]
  },
  {
   "cell_type": "code",
   "execution_count": 22,
   "metadata": {},
   "outputs": [
    {
     "name": "stdout",
     "output_type": "stream",
     "text": [
      "America/Boa_Vista\n",
      "America/Indiana/Petersburg\n",
      "America/Cordoba\n",
      "America/Porto_Acre\n",
      "America/Havana\n",
      "America/Adak\n",
      "America/Phoenix\n",
      "America/Atikokan\n",
      "America/Santo_Domingo\n",
      "America/Jamaica\n",
      "America/Mexico_City\n",
      "America/Montserrat\n",
      "America/Grenada\n",
      "America/St_Barthelemy\n",
      "America/Indiana/Vevay\n",
      "America/Goose_Bay\n",
      "America/Tegucigalpa\n",
      "America/Toronto\n",
      "America/Tortola\n",
      "America/Argentina/Rio_Gallegos\n",
      "America/Cancun\n",
      "America/Belem\n",
      "America/Indiana/Winamac\n",
      "America/North_Dakota/Center\n",
      "America/Aruba\n",
      "America/Nome\n",
      "America/Rio_Branco\n",
      "America/Guayaquil\n",
      "America/Glace_Bay\n",
      "America/Whitehorse\n",
      "America/Cambridge_Bay\n",
      "America/Barbados\n",
      "America/Jujuy\n",
      "America/Coral_Harbour\n",
      "America/Swift_Current\n",
      "America/Santarem\n",
      "America/Recife\n",
      "America/Thule\n",
      "America/Detroit\n",
      "America/Edmonton\n",
      "America/Monterrey\n",
      "America/Kentucky/Louisville\n",
      "America/Virgin\n",
      "America/Guyana\n",
      "America/Indiana/Knox\n",
      "America/St_Lucia\n",
      "America/La_Paz\n",
      "America/Caracas\n",
      "America/Argentina/Mendoza\n",
      "America/Cayenne\n",
      "America/Juneau\n",
      "America/Chihuahua\n",
      "America/Argentina/Tucuman\n",
      "America/Port-au-Prince\n",
      "America/Bahia\n",
      "America/Montevideo\n",
      "America/Miquelon\n",
      "America/Marigot\n",
      "America/Argentina/Salta\n",
      "America/Rosario\n",
      "America/Rainy_River\n",
      "America/Matamoros\n",
      "America/Ciudad_Juarez\n",
      "America/Nipigon\n",
      "America/Lower_Princes\n",
      "America/Menominee\n",
      "America/Ensenada\n",
      "America/Anguilla\n",
      "America/Argentina/San_Juan\n",
      "America/Porto_Velho\n",
      "America/Belize\n",
      "America/St_Kitts\n",
      "America/Anchorage\n",
      "America/Denver\n",
      "America/Pangnirtung\n",
      "America/New_York\n",
      "America/Puerto_Rico\n",
      "America/Moncton\n",
      "America/Punta_Arenas\n",
      "America/Danmarkshavn\n",
      "America/Scoresbysund\n",
      "America/Kralendijk\n",
      "America/Panama\n",
      "America/Knox_IN\n",
      "America/Paramaribo\n",
      "America/Campo_Grande\n",
      "America/Dawson\n",
      "America/El_Salvador\n",
      "America/Santa_Isabel\n",
      "America/Nassau\n",
      "America/Indiana/Marengo\n",
      "America/Yakutat\n",
      "America/Manaus\n",
      "America/Araguaina\n",
      "America/Inuvik\n",
      "America/Sao_Paulo\n",
      "America/Fortaleza\n",
      "America/Los_Angeles\n",
      "America/Halifax\n",
      "America/Dawson_Creek\n",
      "America/Chicago\n",
      "America/Argentina/Cordoba\n",
      "America/Indiana/Indianapolis\n",
      "America/Bahia_Banderas\n",
      "America/Atka\n",
      "America/Guatemala\n",
      "America/Iqaluit\n",
      "America/Dominica\n",
      "America/Noronha\n",
      "America/Santiago\n",
      "America/Montreal\n",
      "America/North_Dakota/Beulah\n",
      "America/Thunder_Bay\n",
      "America/Argentina/San_Luis\n",
      "America/Mazatlan\n",
      "America/Ojinaga\n",
      "America/Martinique\n",
      "America/Boise\n",
      "America/Indiana/Tell_City\n",
      "America/Kentucky/Monticello\n",
      "America/Vancouver\n",
      "America/Antigua\n",
      "America/Creston\n",
      "America/Blanc-Sablon\n",
      "America/Indianapolis\n",
      "America/Shiprock\n",
      "America/Tijuana\n",
      "America/St_Thomas\n",
      "America/Bogota\n",
      "America/Resolute\n",
      "America/Argentina/Jujuy\n",
      "America/Buenos_Aires\n",
      "America/Fort_Wayne\n",
      "America/Sitka\n",
      "America/Merida\n",
      "America/Godthab\n",
      "America/Argentina/La_Rioja\n",
      "America/Cuiaba\n",
      "America/Managua\n",
      "America/Argentina/Ushuaia\n",
      "America/Yellowknife\n",
      "America/Curacao\n",
      "America/Grand_Turk\n",
      "America/Catamarca\n",
      "America/Eirunepe\n",
      "America/St_Vincent\n",
      "America/Nuuk\n",
      "America/Maceio\n",
      "America/North_Dakota/New_Salem\n",
      "America/Winnipeg\n",
      "America/Fort_Nelson\n",
      "America/Argentina/Buenos_Aires\n",
      "America/Regina\n",
      "America/Mendoza\n",
      "America/Asuncion\n",
      "America/Hermosillo\n",
      "America/St_Johns\n",
      "America/Argentina/Catamarca\n",
      "America/Louisville\n",
      "America/Lima\n",
      "America/Metlakatla\n",
      "America/Argentina/ComodRivadavia\n",
      "America/Indiana/Vincennes\n",
      "America/Costa_Rica\n",
      "America/Port_of_Spain\n",
      "America/Guadeloupe\n",
      "America/Cayman\n",
      "America/Rankin_Inlet\n"
     ]
    }
   ],
   "source": [
    "from zoneinfo import available_timezones\n",
    "\n",
    "def spausdinti_amerikos_laiko_juostas():\n",
    "    for laiko_juosta in available_timezones():\n",
    "        if 'America' in laiko_juosta:\n",
    "            print(laiko_juosta)\n",
    "\n",
    "spausdinti_amerikos_laiko_juostas()"
   ]
  },
  {
   "cell_type": "code",
   "execution_count": 23,
   "metadata": {},
   "outputs": [
    {
     "name": "stdout",
     "output_type": "stream",
     "text": [
      "Jusu laikas: 15:15:00, Europe\\Vilnius\n",
      "Sydnejaus laikas: 23:51:00, Australia/Sydney\n",
      "Dubajaus laikas: 17:32:12, Asia/Dubai\n",
      "Londono laikas: 13:51:00, Europe/London\n",
      "New Yorko laikas: 08:51:00, America/New York\n",
      "Los Angeles laikas: 05:51:00, America/ Los Angeles\n"
     ]
    }
   ],
   "source": [
    "from datetime import datetime\n",
    "from zoneinfo import ZoneInfo\n",
    "\n",
    "ivestas_laikas = input(\"Iveskite laika formatu HH:MM(:SS), sekundes nera butinos\")\n",
    "formatas = \"%H:%M\"\n",
    "vartotojo_laiko_zona = input(\"iveskite laiko zona pvz.:\\\"America/Barbados\\\"\")\n",
    "\n",
    "if len(ivestas_laikas) > 5:\n",
    "    formatas = \"%H:%M:%S\"\n",
    "laikas = datetime.strptime(ivestas_laikas, formatas)\n",
    "\n",
    "sydney = laikas.replace(tzinfo=ZoneInfo(vartotojo_laiko_zona)).astimezone(ZoneInfo(\"Australia/Sydney\"))\n",
    "dubai = laikas.replace(tzinfo=ZoneInfo(vartotojo_laiko_zona)).astimezone(ZoneInfo(\"Asia/Dubai\"))\n",
    "london = laikas.replace(tzinfo=ZoneInfo(vartotojo_laiko_zona)).astimezone(ZoneInfo(\"Europe/London\"))\n",
    "new_york = laikas.replace(tzinfo=ZoneInfo(vartotojo_laiko_zona)).astimezone(ZoneInfo(\"America/New_York\"))\n",
    "los_angeles = laikas.replace(tzinfo=ZoneInfo(vartotojo_laiko_zona)).astimezone(ZoneInfo(\"America/Los_Angeles\"))\n",
    "\n",
    "print(f\"\"\"Jusu laikas: {laikas.time()}, {vartotojo_laiko_zona}\n",
    "Sydnejaus laikas: {sydney.time()}, Australia/Sydney\n",
    "Dubajaus laikas: {dubai.time()}, Asia/Dubai\n",
    "Londono laikas: {london.time()}, Europe/London\n",
    "New Yorko laikas: {new_york.time()}, America/New York\n",
    "Los Angeles laikas: {los_angeles.time()}, America/ Los Angeles\"\"\")"
   ]
  }
 ],
 "metadata": {
  "kernelspec": {
   "display_name": "Python 3",
   "language": "python",
   "name": "python3"
  },
  "language_info": {
   "codemirror_mode": {
    "name": "ipython",
    "version": 3
   },
   "file_extension": ".py",
   "mimetype": "text/x-python",
   "name": "python",
   "nbconvert_exporter": "python",
   "pygments_lexer": "ipython3",
   "version": "3.12.1"
  }
 },
 "nbformat": 4,
 "nbformat_minor": 2
}
