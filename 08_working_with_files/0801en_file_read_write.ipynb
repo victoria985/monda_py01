{
 "cells": [
  {
   "cell_type": "markdown",
   "metadata": {},
   "source": [
    "# File Reading and Writing\n",
    "\n",
    "- `open()`, `\"r\"` and `\"w\"` modes, `file.close()`\n",
    "\n",
    "Opening and closing files are important processes in programming that allow a program to perform certain actions with files, such as reading, writing, appending, or editing files.\n",
    "\n",
    "File opening is done using the `open()` function, which specifies the file name and the mode in which you want to open the file. The mode can be specified as `\"r\" (read mode)` or `\"w\" (write mode)`.\n",
    "\n",
    "Example of opening a file in read mode:\n",
    "\n",
    "```python\n",
    "file = open(\"text.txt\", \"r\")"
   ]
  },
  {
   "cell_type": "markdown",
   "metadata": {},
   "source": [
    "With this code, the `\"text.txt\"` file is opened in read mode, and its name is specified as the first parameter.\n",
    "\n",
    "If you want to open a file in write mode, you need to specify the \"w\" mode:"
   ]
  },
  {
   "cell_type": "code",
   "execution_count": null,
   "metadata": {},
   "outputs": [],
   "source": [
    "file = open(\"text.txt\", \"w\")"
   ]
  },
  {
   "cell_type": "markdown",
   "metadata": {},
   "source": [
    "This code opens the \"text.txt\" file in write mode, allowing you to write to the file.\n",
    "\n",
    "When you finish working with a file, you need to close it using the `close()` function:"
   ]
  },
  {
   "cell_type": "code",
   "execution_count": null,
   "metadata": {},
   "outputs": [],
   "source": [
    "file.close()"
   ]
  },
  {
   "cell_type": "markdown",
   "metadata": {},
   "source": [
    "### Using `with open()`\n",
    "`with open()` is a newer and recommended way to perform file operations. It is simpler and safer than using `open()` and `close()` functions. `with` ensures that the file is automatically closed when its usage is finished, which helps avoid potential data loss and reduces the program's load. Here's how you can use `with` along with the `open()` function:"
   ]
  },
  {
   "cell_type": "code",
   "execution_count": null,
   "metadata": {},
   "outputs": [],
   "source": [
    "with open(\"text.txt\", \"r\") as file:\n",
    "    # perform operations on the file"
   ]
  },
  {
   "cell_type": "markdown",
   "metadata": {},
   "source": [
    "### Reading Lines from a File\n",
    "You can read a text file line by line using a `for` loop and access each line individually:"
   ]
  },
  {
   "cell_type": "code",
   "execution_count": null,
   "metadata": {},
   "outputs": [],
   "source": [
    "with open('file_name.txt', 'r') as file:\n",
    "    for line in file:\n",
    "        print(line)"
   ]
  },
  {
   "cell_type": "markdown",
   "metadata": {},
   "source": [
    "### Reading Lines with `readline()`\n",
    "You can use the `readline()` function to read each line individually and print it. It first assigns the first `line` to the line variable and then uses a `while` loop to check if the variable is not empty. After printing each line, it reads the next line, continuing until the end of the file.\n",
    "\n",
    "Example:"
   ]
  },
  {
   "cell_type": "code",
   "execution_count": null,
   "metadata": {},
   "outputs": [],
   "source": [
    "with open('file_name.txt', 'r') as file:\n",
    "    line = file.readline()\n",
    "    while line != '':\n",
    "        print(line)\n",
    "        line = file.readline()"
   ]
  },
  {
   "cell_type": "markdown",
   "metadata": {},
   "source": [
    "# `Quick Assignment 1`\n",
    "\n",
    "## Task\n",
    "\n",
    "Open a text file and print a line from it while converting all uppercase letters to lowercase and vice versa. File name: \"changes.txt\". 💡 You can use the `swapcase()` function.\n",
    "\n",
    "## Solution\n",
    "\n",
    "To complete this task, follow these steps:\n",
    "\n",
    "1. Open the text file \"changes.txt\" for reading.\n",
    "2. Read a line from the file.\n",
    "3. Convert the line to a new string where uppercase letters are changed to lowercase and vice versa using the `swapcase()` function.\n",
    "4. Print the modified line."
   ]
  },
  {
   "cell_type": "code",
   "execution_count": null,
   "metadata": {},
   "outputs": [],
   "source": [
    "# Your code here"
   ]
  },
  {
   "cell_type": "markdown",
   "metadata": {},
   "source": [
    "### Reading Lines into an Array with `readlines()`\n",
    "You can use the `readlines()` function to read all lines and return them as an array. In this case, we assign the array to the `lines` variable and use a `for` loop to print each line individually.\n",
    "\n",
    "Example:"
   ]
  },
  {
   "cell_type": "code",
   "execution_count": null,
   "metadata": {},
   "outputs": [],
   "source": [
    "with open('file_name.txt', 'r') as file:\n",
    "    lines = file.readlines()\n",
    "    for line in lines:\n",
    "        print(line)"
   ]
  },
  {
   "cell_type": "markdown",
   "metadata": {},
   "source": [
    "### Reading the Entire File with `read()`\n",
    "You can use the `read()` function to read the entire file and assign it to a variable, then print it.\n",
    "\n",
    "Example:"
   ]
  },
  {
   "cell_type": "code",
   "execution_count": null,
   "metadata": {},
   "outputs": [],
   "source": [
    "with open('file_name.txt', 'r') as file:\n",
    "    content = file.read()\n",
    "    print(content)"
   ]
  },
  {
   "cell_type": "markdown",
   "metadata": {},
   "source": [
    "### Reading in Chunks with Buffering\n",
    "Reading in chunks with buffering is a way to read a file or data stream in parts rather than all at once. This is useful for large files that might consume a lot of memory if read in one go, or for more efficient data reading from the disk."
   ]
  },
  {
   "cell_type": "markdown",
   "metadata": {},
   "source": [
    "### `tell()` Function\n",
    "The `tell()` function is used to get the current file position.\n",
    "\n",
    "Example:"
   ]
  },
  {
   "cell_type": "code",
   "execution_count": null,
   "metadata": {},
   "outputs": [],
   "source": [
    "with open(\"data.txt\", \"r\") as file:\n",
    "    position = file.tell()  # Get the current position in the file\n",
    "    print(position)"
   ]
  },
  {
   "cell_type": "markdown",
   "metadata": {},
   "source": [
    "### `seek()` Function\n",
    "The `seek()` function is used to change the current file pointer position. It can take one or two arguments: \n",
    "the first specifies where to start from, and the second specifies the reference point (0 - from the beginning, 1 - from the current position, 2 - from the end). \n",
    "\n",
    "The default reference is 0 (from the beginning).\n",
    "\n",
    "Example:"
   ]
  },
  {
   "cell_type": "code",
   "execution_count": null,
   "metadata": {},
   "outputs": [],
   "source": [
    "with open(\"text.txt\", \"r\") as file:\n",
    "    # Set the pointer to the 5th character from the beginning of the file\n",
    "    file.seek(5)\n",
    "\n",
    "    # Read the file from the 5th character\n",
    "    content = file.read()\n",
    "    print(content)"
   ]
  },
  {
   "cell_type": "markdown",
   "metadata": {},
   "source": [
    "### `write()` Function\n",
    "The `write()` function is used when you want to write to a file.\n",
    "\n",
    "Example:"
   ]
  },
  {
   "cell_type": "code",
   "execution_count": null,
   "metadata": {},
   "outputs": [],
   "source": [
    "with open(\"results.txt\", \"w\") as file:\n",
    "    file.write(\"Hello, world!\")"
   ]
  },
  {
   "cell_type": "markdown",
   "metadata": {},
   "source": [
    "# `Quick Assignment 2`\n",
    "\n",
    "## Task\n",
    "\n",
    "Create a new file named \"numbers.txt\" and write numbers from 1 to 100, each on a new line.\n",
    "\n",
    "## Solution\n",
    "\n",
    "To complete this task, follow these steps:\n",
    "\n",
    "1. Create a new text file named \"numbers.txt\" for writing.\n",
    "2. Write numbers from 1 to 100, each on a new line."
   ]
  },
  {
   "cell_type": "code",
   "execution_count": null,
   "metadata": {},
   "outputs": [],
   "source": [
    "# Your code here"
   ]
  },
  {
   "cell_type": "markdown",
   "metadata": {},
   "source": [
    "### `writelines()` Function\n",
    "The `writelines()` function is used to write multiple lines to a file. It takes a list of lines or another iterable text. It's important to include a newline character (`\"\\n\"`) at the end of each line.\n",
    "\n",
    "Example:"
   ]
  },
  {
   "cell_type": "code",
   "execution_count": null,
   "metadata": {},
   "outputs": [],
   "source": [
    "lines = [\"Hello, world!\\n\", \"This is my first Python file.\\n\"]\n",
    "\n",
    "with open(\"results.txt\", \"w\") as file:\n",
    "    file.writelines(lines)"
   ]
  },
  {
   "cell_type": "markdown",
   "metadata": {},
   "source": [
    "# `Quick Assignment 3`\n",
    "\n",
    "## Task\n",
    "\n",
    "Open the file \"text.txt,\" move the file pointer to the middle of the file, and print the remaining content of the file.\n",
    "\n",
    "## Solution\n",
    "\n",
    "To complete this task, follow these steps:\n",
    "\n",
    "1. Open the file \"text.txt\" for reading.\n",
    "2. Determine the file's size to find the middle point.\n",
    "3. Move the file pointer to the middle of the file.\n",
    "4. Read and print the remaining content."
   ]
  },
  {
   "cell_type": "code",
   "execution_count": null,
   "metadata": {},
   "outputs": [],
   "source": [
    "# Your code here"
   ]
  },
  {
   "cell_type": "markdown",
   "metadata": {},
   "source": [
    "### Append `\"a\"` Mode\n",
    "The \"a\" mode is used when you want to append content to an existing file. If the file does not exist, it will be created.\n",
    "\n",
    "Example:"
   ]
  },
  {
   "cell_type": "code",
   "execution_count": null,
   "metadata": {},
   "outputs": [],
   "source": [
    "with open(\"append.txt\", \"a\") as file:\n",
    "    file.write(\"Additional line.\\n\")"
   ]
  },
  {
   "cell_type": "markdown",
   "metadata": {},
   "source": [
    "### Read and Write `\"r+\"` Mode\n",
    "The `\"r+\"` mode is used when you want to open a file for both reading and writing. If the file doesn't exist, it won't be created.\n",
    "\n",
    "Example:"
   ]
  },
  {
   "cell_type": "code",
   "execution_count": null,
   "metadata": {},
   "outputs": [],
   "source": [
    "with open(\"read_write.txt\", \"r+\") as file:\n",
    "    # Read\n",
    "    content = file.read()\n",
    "    print(\"Original content:\", content)\n",
    "\n",
    "    # Write\n",
    "    file.seek(0)  # Return to the beginning of the file\n",
    "    file.write(\"Modified line.\\n\")\n"
   ]
  },
  {
   "cell_type": "markdown",
   "metadata": {},
   "source": [
    "### Write and Read `\"w+\"` Mode\n",
    "The `\"w+\"` mode is used when you want to open a file for both writing and reading. If the file exists, its content will be cleared.\n",
    "\n",
    "Example:"
   ]
  },
  {
   "cell_type": "code",
   "execution_count": null,
   "metadata": {},
   "outputs": [],
   "source": [
    "with open(\"write_read.txt\", \"w+\") as file:\n",
    "    # Write\n",
    "    file.write(\"New line.\\n\")\n",
    "\n",
    "    # Read\n",
    "    file.seek(0)  # Return to the beginning of the file\n",
    "    content = file.read()\n",
    "    print(\"New content:\", content)"
   ]
  },
  {
   "cell_type": "markdown",
   "metadata": {},
   "source": [
    "All of these file opening modes allow you to manipulate the content in files. Depending on your needs, you can choose the most suitable mode."
   ]
  },
  {
   "cell_type": "markdown",
   "metadata": {},
   "source": [
    "# `Bonus Assignment 4`\n",
    "\n",
    "## Task\n",
    "\n",
    "Create a file named \"lines.txt\" and write the following lines to it:\n",
    "\n",
    "1. The sun gently devours the earth.\n",
    "2. In the evening, the wind whispers to the trees.\n",
    "3. The wind doesn't calm down; it whispers and whistles.\n",
    "\n",
    "Append a new line to the \"lines.txt\" file, which is your full name.\n",
    "\n",
    "Open the \"lines.txt\" file, read its content, and print all lines that contain the word \"wind.\"\n",
    "\n",
    "## Solution\n",
    "\n",
    "To complete this task, follow these steps:\n",
    "\n",
    "1. Create a new file named \"lines.txt\" for writing.\n",
    "2. Write the provided lines to the file.\n",
    "3. Append your full name as a new line to the \"lines.txt\" file.\n",
    "4. Open the \"lines.txt\" file for reading.\n",
    "5. Read the content and print all lines containing the word \"wind.\""
   ]
  },
  {
   "cell_type": "code",
   "execution_count": null,
   "metadata": {},
   "outputs": [],
   "source": []
  }
 ],
 "metadata": {
  "kernelspec": {
   "display_name": "Python 3",
   "language": "python",
   "name": "python3"
  },
  "language_info": {
   "codemirror_mode": {
    "name": "ipython",
    "version": 3
   },
   "file_extension": ".py",
   "mimetype": "text/x-python",
   "name": "python",
   "nbconvert_exporter": "python",
   "pygments_lexer": "ipython3",
   "version": "3.12.1"
  }
 },
 "nbformat": 4,
 "nbformat_minor": 2
}
