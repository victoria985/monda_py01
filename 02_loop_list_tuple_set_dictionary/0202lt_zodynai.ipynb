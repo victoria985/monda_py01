{
 "cells": [
  {
   "cell_type": "markdown",
   "metadata": {},
   "source": [
    "# Žodynas\n",
    "\n",
    "Žodynas yra viena iš pagrindinių duomenų struktūrų „Python“ kalboje, kuri leidžia jums saugoti raktų ir reikšmių porų kolekcijas.\n",
    "\n",
    "- Žodyne kiekvienas raktas yra susietas su reikšme, ir šią reikšmę galite pasiekti naudodami raktą.\n",
    "- „Python“ kalboje žodynai yra nepaprastai naudingi įvairioms užduotims, tokiose kaip informacijos saugojimas, duomenų organizavimas ir greitas reikšmių gavimas, susietų su konkrečiais raktais."
   ]
  },
  {
   "cell_type": "markdown",
   "metadata": {},
   "source": [
    "## Žodynų kūrimas\n",
    "\n",
    "- Žodynai „Python“ kalboje gali būti sukurti naudojant laužtinius skliaustus `{}`.\n",
    "- Kiekvieną raktą ir reikšmę atskiria dvitaškiai, o daugiau raktų ir reikšmių porų skiria kableliai. \n",
    "\n",
    "**Pavyzdys**:"
   ]
  },
  {
   "cell_type": "code",
   "execution_count": null,
   "metadata": {},
   "outputs": [],
   "source": [
    "zodynas = {'raktas1': 'reiksme1', 'raktas2': 'reiksme2'}\n",
    "print(zodynas)  # {'raktas1': 'reiksme1', 'raktas2': 'reiksme2'}"
   ]
  },
  {
   "cell_type": "markdown",
   "metadata": {},
   "source": [
    "# `Greita užduotis 1: žodyno kūrimas`\n",
    "\n",
    "**Instrukcijos:**\n",
    "\n",
    "1. Sukurkite žodyną su bent trimis augintinių vardais ir jų amžiais.\n",
    "1. Atspausdinkite visą žodyną.\n",
    "\n",
    "**Patarimas**\n",
    "- Naudokite bet kokį savo pasirinkto pavadinimo kintamąjį."
   ]
  },
  {
   "cell_type": "code",
   "execution_count": null,
   "metadata": {},
   "outputs": [],
   "source": [
    "# jusu kodo vieta"
   ]
  },
  {
   "cell_type": "markdown",
   "metadata": {},
   "source": [
    "## Prieiga prie konkretaus žodyno įrašo\n",
    "\n",
    "- Norėdami pasiekti konkretų įrašą žodyne, tiesiog turite nurodyti raktą laužtiniuose `[]` skliaustuose:"
   ]
  },
  {
   "cell_type": "code",
   "execution_count": null,
   "metadata": {},
   "outputs": [],
   "source": [
    "zmones = {'Jonas': 24, 'Petras': 32}\n",
    "print(zmones['Petras']) # 32\n",
    "print(zmones['Jonas']) # 24"
   ]
  },
  {
   "cell_type": "markdown",
   "metadata": {},
   "source": [
    "# `Greita užduotis 2: Konkretaus žodyno įrašo pasiekimas`\n",
    "\n",
    "**Instrukcijos:**\n",
    "\n",
    "1. Atspausdinkite bet kurio gyvūno amžių iš žodyno, sukurto `Greitosios užduoties 1` metu."
   ]
  },
  {
   "cell_type": "code",
   "execution_count": null,
   "metadata": {},
   "outputs": [],
   "source": [
    "# jusu kodo vieta"
   ]
  },
  {
   "cell_type": "markdown",
   "metadata": {},
   "source": [
    "## Įtraukti įrašą į žodyną\n",
    "- Į žodyną galite įtraukti įrašą naudodami paprastą priskyrimo operatorių `=`, \n",
    "- nurodydami raktą laužtiniuose skliaustuose `[]` po žodyno kintamojo pavadinimo. \n",
    "\n",
    "**Pavyzdys:**"
   ]
  },
  {
   "cell_type": "code",
   "execution_count": null,
   "metadata": {},
   "outputs": [],
   "source": [
    "people = {'Jonas': 24, 'Petras': 32}\n",
    "people['Ona'] = 28\n",
    "print(people)  # {'Jonas': 24, 'Petras': 32, 'Ona': 28}"
   ]
  },
  {
   "cell_type": "markdown",
   "metadata": {},
   "source": [
    "# `Greita užduotis 3: Įrašo pridėjimas prie žodyno`\n",
    "\n",
    "**Instrukcijos:**\n",
    "\n",
    "1. Pridėkite naują gyvūną prie žodyno, sukūrto `Greitosios užduoties 1` metu.\n",
    "1. Atspausdinkite atnaujintą žodyną."
   ]
  },
  {
   "cell_type": "code",
   "execution_count": null,
   "metadata": {},
   "outputs": [],
   "source": [
    "# jusu kodo vieta"
   ]
  },
  {
   "cell_type": "markdown",
   "metadata": {},
   "source": [
    "## Konkretaus žodyno įrašo keitimas\n",
    "\n",
    "- Norint pakeisti konkretaus žodyno įrašą, reikia nurodyti esamą raktą laužtiniuose skliaustuose `[]` po žodyno kintamojo pavadinimo ir priskirti jam naują reikšmę:"
   ]
  },
  {
   "cell_type": "code",
   "execution_count": null,
   "metadata": {},
   "outputs": [],
   "source": [
    "people = {'Jonas': 24, 'Petras': 32, 'Ona': 28}\n",
    "people['Petras'] = 33\n",
    "print(people)  # {'Jonas': 24, 'Petras': 33, 'Ona': 28}"
   ]
  },
  {
   "cell_type": "markdown",
   "metadata": {},
   "source": [
    "# `Greita užduotis 4: Konkretaus žodyno įrašo keitimas`\n",
    "\n",
    "**Instrukcijos:**\n",
    "\n",
    "1. Pakeiskite bet kurio gyvūno amžių iš sukurtos sąrašo `užduoties 1`.\n",
    "1. Atspausdinkite atnaujintą žodyną."
   ]
  },
  {
   "cell_type": "code",
   "execution_count": null,
   "metadata": {},
   "outputs": [],
   "source": [
    "# jusu kodo vieta"
   ]
  },
  {
   "cell_type": "markdown",
   "metadata": {},
   "source": [
    "## Konkretaus žodyno įrašo trinimas\n",
    "\n",
    "- Norint ištrinti žodyno įrašą, galite naudoti `del` komandą, po to seka žodyno kintamojo pavadinimas ir raktas laužtiniuose skliaustuose, kurio reikšmę norite pašalinti iš žodyno."
   ]
  },
  {
   "cell_type": "code",
   "execution_count": null,
   "metadata": {},
   "outputs": [],
   "source": [
    "people = {'Jonas': 24, 'Petras': 32, 'Ona': 28}\n",
    "del people['Ona']\n",
    "print(people)  # {'Jonas': 24, 'Petras': 32}"
   ]
  },
  {
   "cell_type": "markdown",
   "metadata": {},
   "source": [
    "# `Greita užduotis 5: konkretaus žodyno įrašo ištrynimas`\n",
    "\n",
    "Dabar praktikuosimės greitai trinti žodyno įrašus:\n",
    "\n",
    "**Instrukcijos:**\n",
    "\n",
    "1. Naudokite `del` komandą, kad pašalintumėte vieną iš augintinių ir jo kiekį iš sukurtos žodyno `greitosios užduoties 1`.\n",
    "1. Atspausdinkite augintinių žodyną dar kartą, kad pamatytumėte rezultatą."
   ]
  },
  {
   "cell_type": "code",
   "execution_count": null,
   "metadata": {},
   "outputs": [],
   "source": [
    "# jusu kodo vieta"
   ]
  },
  {
   "cell_type": "markdown",
   "metadata": {},
   "source": [
    "## Žodyno metodai\n",
    "\n",
    "Žodyno metodai leidžia atlikti veiksmus su žodynu ir manipuliuoti jo turiniu. Štai keletas dažniausiai naudojamų metodų:\n",
    "\n",
    "`.keys()` Grąžina visus raktus žodyne."
   ]
  },
  {
   "cell_type": "code",
   "execution_count": null,
   "metadata": {},
   "outputs": [],
   "source": [
    "dictionary = {'Jonas': 24, 'Petras': 32, 'Ona': 28}\n",
    "keys = dictionary.keys()\n",
    "print(keys)  # dict_keys(['Jonas', 'Petras', 'Ona'])"
   ]
  },
  {
   "cell_type": "markdown",
   "metadata": {},
   "source": [
    "`.values()` Grąžina visas žodyno reikšmes."
   ]
  },
  {
   "cell_type": "code",
   "execution_count": null,
   "metadata": {},
   "outputs": [],
   "source": [
    "dictionary = {'Jonas': 24, 'Petras': 32, 'Ona': 28}\n",
    "values = dictionary.values()\n",
    "print(values)  # dict_values([24, 32, 28])"
   ]
  },
  {
   "cell_type": "markdown",
   "metadata": {},
   "source": [
    "`.items()` Grąžina `sąrašą`, kuriame yra visi žodyno raktai ir jų atitinkamos reikšmės."
   ]
  },
  {
   "cell_type": "code",
   "execution_count": null,
   "metadata": {},
   "outputs": [],
   "source": [
    "dictionary = {'Jonas': 24, 'Petras': 32, 'Ona': 28}\n",
    "items = dictionary.items()\n",
    "print(items)  # dict_items([('Jonas', 24), ('Petras', 32), ('Ona', 28)])"
   ]
  },
  {
   "cell_type": "markdown",
   "metadata": {},
   "source": [
    "`.get()` Grąžina reikšmę, kuri atitinka nurodytą raktą. Jei raktas nerastas, gali grąžinti numatytąją reikšmę (nurodytą kaip atskiras argumentas) arba None."
   ]
  },
  {
   "cell_type": "code",
   "execution_count": null,
   "metadata": {},
   "outputs": [],
   "source": [
    "dictionary = {'Jonas': 24, 'Petras': 32, 'Ona': 28}\n",
    "value = dictionary.get('Jonas')\n",
    "print(value)  # 24\n",
    "print(dictionary.get('Juozas', 0))  # 0\n",
    "print(dictionary.get('Juozas'))  # None"
   ]
  },
  {
   "cell_type": "markdown",
   "metadata": {},
   "source": [
    "`.pop()` Pašalina ir grąžina reikšmę, susietą su nurodytu raktu. Jei raktas nerastas, gali grąžinti numatytąją reikšmę (nurodytą kaip atskiras argumentas) arba sukelti klaidą."
   ]
  },
  {
   "cell_type": "code",
   "execution_count": null,
   "metadata": {},
   "outputs": [],
   "source": [
    "dictionary = {'Jonas': 24, 'Petras': 32, 'Ona': 28}\n",
    "value = dictionary.pop('Petras')\n",
    "print(value)  # 32\n",
    "not_found = dictionary.pop('Juozas', 0)\n",
    "print(not_found)  # 0\n",
    "print(dictionary)  # {'Jonas': 24, 'Ona': 28}"
   ]
  },
  {
   "cell_type": "markdown",
   "metadata": {},
   "source": [
    "`.clear()` Išvalo žodyno turinį, jį padarant tuščiu žodynu."
   ]
  },
  {
   "cell_type": "code",
   "execution_count": null,
   "metadata": {},
   "outputs": [],
   "source": [
    "dictionary = {'Jonas': 24, 'Petras': 32, 'Ona': 28}\n",
    "dictionary.clear()\n",
    "print(dictionary)  # {}"
   ]
  },
  {
   "cell_type": "markdown",
   "metadata": {},
   "source": [
    "Pastaba dėl \"`del`\" ir \"`pop()`\" skirtumo:\n",
    "\n",
    "Abu metodai leidžia pašalinti įrašą iš žodyno, tačiau yra šiek tiek skirtumų:\n",
    "\n",
    "- jei norite tik pašalinti įrašą be galimybės grąžinti reikšmę, turėtumėte naudoti `del`. \n",
    "- Jei norite ir pašalinti, ir grąžinti reikšmę, `pop()` yra geresnis pasirinkimas, ypač jei turite numatytąją reikšmę raktui neradus."
   ]
  },
  {
   "cell_type": "markdown",
   "metadata": {},
   "source": [
    "# `Greita užduotis 6: žodyno metodai`\n",
    "\n",
    "Dabar išbandykime naudodami šiuos žodyno metodus:\n",
    "\n",
    "1. Atspausdinkite gyvūnų žodyno reikšmes.\n",
    "1. Naudokite `.items()` metodą, kad atspausdintumėte visų raktų ir reikšmių sąrašą gyvūnų žodyne.\n",
    "1. Naudokite `.get()` metodą, kad gautumėte vieno gyvūno amžių, nurodant numatytąją vertę, jei gyvūno nėra.\n",
    "1. Naudokite `.pop()` metodą, kad pašalintumėte vieną gyvūną ir jo amžių iš žodyno.\n",
    "1. Išvalykite gyvūnų žodyno turinį, naudodami `.clear()` metodą, ir atspausdinkite tuščią žodyną."
   ]
  },
  {
   "cell_type": "code",
   "execution_count": null,
   "metadata": {},
   "outputs": [],
   "source": [
    "# jusu kodo vieta"
   ]
  },
  {
   "cell_type": "markdown",
   "metadata": {},
   "source": [
    "# `Papildoma Užduotis`\n",
    "\n",
    "Sukurkite tuščią žodyną pavadinimu \"cars\" ir pridėkite informaciją apie tris skirtingus automobilius. Nebijokite naudoti savo kūrybiškumo ir įtraukti įvairių gamintojų, modelių, metų, spalvų ir variklių tipų.\n",
    "\n",
    "1. Atvaizduokite informaciją apie vieną automobilį iš žodyno.\n",
    "1. Pakeiskite informaciją apie vieną automobilį (pavyzdžiui, pakeiskite variklio tipą).\n",
    "1. Pridėkite naują automobilį į žodyną.\n",
    "1. Pašalinkite informaciją apie vieną automobilį iš žodyno.\n",
    "1. Atvaizduokite bendrą automobilių skaičių žodyne.\n",
    "1. Patikrinkite, ar konkretus automobilis yra žodyne.\n",
    "1. Išvalykite žodyną."
   ]
  },
  {
   "cell_type": "code",
   "execution_count": null,
   "metadata": {},
   "outputs": [],
   "source": [
    "# jusu kodo vieta"
   ]
  }
 ],
 "metadata": {
  "kernelspec": {
   "display_name": "venv",
   "language": "python",
   "name": "python3"
  },
  "language_info": {
   "codemirror_mode": {
    "name": "ipython",
    "version": 3
   },
   "file_extension": ".py",
   "mimetype": "text/x-python",
   "name": "python",
   "nbconvert_exporter": "python",
   "pygments_lexer": "ipython3",
   "version": "3.12.1"
  }
 },
 "nbformat": 4,
 "nbformat_minor": 2
}
