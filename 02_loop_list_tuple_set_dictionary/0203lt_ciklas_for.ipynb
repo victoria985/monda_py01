{
 "cells": [
  {
   "cell_type": "markdown",
   "metadata": {},
   "source": [
    "# `for` Ciklai\n",
    "Kas yra `for` ciklas?\n",
    "\n",
    "`for` ciklas Python programavimo kalboje yra valdymo srauto teiginys, leidžiantis iteruoti per nustatytą elementų rinkinį, tokių kaip sąrašai, žodynai ir kt.\n",
    "Iteracija yra bendrasis terminas, naudojamas programavimo ir informatikos srityse, kuris apibūdina procesą, kai seka veiksmų arba instrukcijų pakartotinai vykdoma tam tikruose elementuose, dažniausiai po vieną. Tai yra pagrindinė programavimo sąvoka ir naudojama peržiūrėti, apdoroti arba manipuliuoti duomenų strukt8roms.\n",
    "\n",
    "- `for` cikle nurodomas kintamasis, kuriame saugomas kiekvieno žingsnio iteracijos elementas. Ciklo blokas yra atitrauktas į dešinę ir vykdomas kiekvienam nustatytos iteracijos žingsniui.\n",
    "\n",
    "## `for` ciklo pritaikymas `sąraše`:\n",
    "\n",
    "Pavyzdžiui, jei turime skaičių sąrašą ir norime atspausdinti kiekvieną skaičių, galime naudoti for ciklą:\n"
   ]
  },
  {
   "cell_type": "code",
   "execution_count": 13,
   "metadata": {},
   "outputs": [
    {
     "name": "stdout",
     "output_type": "stream",
     "text": [
      "1\n",
      "2\n",
      "3\n",
      "4\n",
      "5\n"
     ]
    }
   ],
   "source": [
    "skaiciai = [1, 2, 3, 4, 5]\n",
    "\n",
    "for zmogus in skaiciai:\n",
    "    print(zmogus)"
   ]
  },
  {
   "cell_type": "markdown",
   "metadata": {},
   "source": [
    "Atkreipkite dėmesį, kad kitose programavimo kalbose `skaicius` kintamąjį dažnai pakeičia `i`, kuris dažnai naudojamas kaip kintamasis cikluose. Tai yra konvencija ir reiškia \"indeksą\" arba \"iteraciją\". '`i`' kintamasis dažnai naudojamas valdyti iteracijų skaičių arba pasiekti elementus masyve ar sąraše. '`i`' plačiai suprantamas ir pripažįstamas ciklo kontekste. Python'e `for` ciklo žingsnio kintamasis įgauna elemento reikšmę, ne indeksą, ir geriausia, kad kintamojo pavadinimas reprezentuotų tą reikšmę, pvz. `skaicius`.\n",
    "\n",
    "`for` ciklas, kai jis taikomas aibėms ir tuplams, elgiasi taip pat kaip ir sąrašašuose. Apie juos vėliau."
   ]
  },
  {
   "cell_type": "markdown",
   "metadata": {},
   "source": [
    "### Greitas Uždavinys 1\n",
    "\n",
    "1. Sukurkite sąrašą su bent penkiais elementais\n",
    "1. Atspausdinkite jį naudodami `for` ciklą"
   ]
  },
  {
   "cell_type": "code",
   "execution_count": 7,
   "metadata": {},
   "outputs": [
    {
     "name": "stdout",
     "output_type": "stream",
     "text": [
      "1\n",
      "2\n",
      "3\n",
      "4\n",
      "5\n"
     ]
    }
   ],
   "source": [
    "# jusu kodo vieta\n",
    "skaiciai = [ 1, 2, 3, 4, 5 ]\n",
    "\n",
    "for skaicius in skaiciai:\n",
    "    print(skaicius)"
   ]
  },
  {
   "cell_type": "code",
   "execution_count": 9,
   "metadata": {},
   "outputs": [
    {
     "name": "stdout",
     "output_type": "stream",
     "text": [
      "kriause\n",
      "mandarinas\n",
      "bananas\n",
      "greifruktas\n",
      "apelsinas\n"
     ]
    }
   ],
   "source": [
    "vaisiai = [ \"kriause\", \"mandarinas\", \"bananas\", \"greifruktas\", \"apelsinas\" ]\n",
    "\n",
    "for vaisius in vaisiai:\n",
    "    print(vaisius)"
   ]
  },
  {
   "cell_type": "markdown",
   "metadata": {},
   "source": [
    "---\n",
    "\n",
    "## `for` ciklo pritaikymas žodynui\n",
    "\n",
    "Taip pat galime naudoti `for` ciklą su žodynu. Yra keletas būdų tai padaryti.\n",
    "\n",
    "Šis ciklas iteruos per žodyno raktus ir grąžins kiekvieną raktą atskirai. \n",
    "\n",
    "**Pavyzdžiui**:\n"
   ]
  },
  {
   "cell_type": "code",
   "execution_count": 14,
   "metadata": {},
   "outputs": [
    {
     "name": "stdout",
     "output_type": "stream",
     "text": [
      "Rokas\n",
      "Andrius\n",
      "Laura\n"
     ]
    }
   ],
   "source": [
    "zmones = {'Rokas': 20, 'Andrius': 34, 'Laura': 25}\n",
    "\n",
    "for zmogus in zmones:\n",
    "    print(zmogus, zmones[zmogus])"
   ]
  },
  {
   "cell_type": "code",
   "execution_count": 15,
   "metadata": {},
   "outputs": [
    {
     "name": "stdout",
     "output_type": "stream",
     "text": [
      "Domas\n",
      "Juste\n",
      "Ula\n"
     ]
    }
   ],
   "source": [
    "zmones = {\"Domas\": 23, \"Juste\": 20, \"Ula\": 13}\n",
    "\n",
    "for zmogus in zmones:\n",
    "    print(zmogus)"
   ]
  },
  {
   "cell_type": "markdown",
   "metadata": {},
   "source": [
    "### Greitas uždavinys 2\n",
    "\n",
    "Sukurkite vaisių žodyną, nurodydami kiekius kaip reikšmes, ir išspausdinkite visų vaisių raktinius žodžius"
   ]
  },
  {
   "cell_type": "code",
   "execution_count": 11,
   "metadata": {},
   "outputs": [
    {
     "name": "stdout",
     "output_type": "stream",
     "text": [
      "20\n",
      "34\n",
      "25\n"
     ]
    }
   ],
   "source": [
    "---\n",
    "\n",
    "Naudodami `.values()` žodyno metodus cikle, ciklas iteruos per žodyno vertybes ir grąžins kiekvieną vertę atskirai.\n",
    "\n",
    "Pavyzdžiui:"
   ]
  },
  {
   "cell_type": "code",
   "execution_count": 4,
   "metadata": {},
   "outputs": [
    {
     "name": "stdout",
     "output_type": "stream",
     "text": [
      "5\n",
      "3\n",
      "10\n"
     ]
    }
   ],
   "source": [
    "vaisiai = {\"bananas\": 5, \"apelsinas\": 3, \"mandarinas\": 10 }\n",
    "\n",
    "for vaisio_kiekis in vaisiai.values():\n",
    "    print(vaisio_kiekis)"
   ]
  },
  {
   "cell_type": "code",
   "execution_count": 5,
   "metadata": {},
   "outputs": [
    {
     "name": "stdout",
     "output_type": "stream",
     "text": [
      "bananas\n",
      "apelsinas\n",
      "mandarinas\n"
     ]
    }
   ],
   "source": [
    "vaisiai = {\"bananas\": 5, \"apelsinas\": 3, \"mandarinas\": 10 }\n",
    "\n",
    "for vaisis in vaisiai:\n",
    "    print(vaisis)"
   ]
  },
  {
   "cell_type": "code",
   "execution_count": 7,
   "metadata": {},
   "outputs": [
    {
     "name": "stdout",
     "output_type": "stream",
     "text": [
      "20\n",
      "34\n",
      "25\n"
     ]
    }
   ],
   "source": [
    "zmones = {'Rokas': 20, 'Andrius': 34, 'Laura': 25}\n",
    "\n",
    "for zmogaus_amzius in zmones.values():\n",
    "    print(zmogaus_amzius)"
   ]
  },
  {
   "cell_type": "code",
   "execution_count": 25,
   "metadata": {},
   "outputs": [
    {
     "name": "stdout",
     "output_type": "stream",
     "text": [
      "23\n",
      "20\n",
      "13\n"
     ]
    }
   ],
   "source": [
    "zmones = {\"Domas\": 23, \"Juste\": 20, \"Ula\": 13}\n",
    "\n",
    "for zmogus in zmones.values():\n",
    "    print(zmogus)\n"
   ]
  },
  {
   "cell_type": "markdown",
   "metadata": {},
   "source": [
    "### Greitas uždavinys 3\n",
    "\n",
    "Susumuokite visus GU2 sukurto vaisių sąrašo vaisių kiekius, iteruodami žodyno reikšmes, ir išspausdinkite rezultatą po ciklo"
   ]
  },
  {
   "cell_type": "code",
   "execution_count": 4,
   "metadata": {},
   "outputs": [
    {
     "name": "stdout",
     "output_type": "stream",
     "text": [
      "bananas             5\n",
      "apelsinas           3\n",
      "mandarinas         10\n"
     ]
    }
   ],
   "source": [
    "vaisiai = {\"bananas\": 5, \"apelsinas\": 3, \"mandarinas\": 10 }\n",
    "\n",
    "for vaisius, kiekis in vaisiai.items():\n",
    "    print(f\"{vaisius:13} {kiekis:>7}\")\n",
    "\n",
    "\n",
    "    "
   ]
  },
  {
   "cell_type": "code",
   "execution_count": 50,
   "metadata": {},
   "outputs": [
    {
     "name": "stdout",
     "output_type": "stream",
     "text": [
      "vaisiai 18 bendras kiekis\n"
     ]
    }
   ],
   "source": [
    "print(f\"vaisiai\", (5 + 3 + 10),\"bendras kiekis\")"
   ]
  },
  {
   "cell_type": "markdown",
   "metadata": {},
   "source": [
    "---\n",
    "\n",
    "Kai nurodome raktą, vertę ir `.items()`, ciklas iteruos per žodyno raktus, vertes ir grąžins kiekvieną raktą ir vertę atskirai. \n",
    "\n",
    "**Pavyzdžiui**:"
   ]
  },
  {
   "cell_type": "code",
   "execution_count": 12,
   "metadata": {},
   "outputs": [
    {
     "name": "stdout",
     "output_type": "stream",
     "text": [
      "Rokas 20\n",
      "Andrius 34\n",
      "Laura 25\n"
     ]
    }
   ],
   "source": [
    "zmones = {'Rokas': 20, 'Andrius': 34, 'Laura': 25}\n",
    "\n",
    "for vardas, amzius in zmones.items():\n",
    "    print(vardas, amzius)"
   ]
  },
  {
   "cell_type": "code",
   "execution_count": 26,
   "metadata": {},
   "outputs": [
    {
     "name": "stdout",
     "output_type": "stream",
     "text": [
      "Domas 23\n",
      "Juste 20\n",
      "Ula 13\n"
     ]
    }
   ],
   "source": [
    "zmones = {\"Domas\": 23, \"Juste\": 20, \"Ula\": 13}\n",
    "\n",
    "for zmogus, amzius in zmones.items():\n",
    "    print(zmogus, amzius)"
   ]
  },
  {
   "cell_type": "markdown",
   "metadata": {},
   "source": [
    "Svarbu pažymėti, kad šį kartą indekso kintamasis buvo pakeistas į kintamuosius '`vardas`' ir '`amzius`', atitinkamai reprezentuojant žodyno elementus."
   ]
  },
  {
   "cell_type": "markdown",
   "metadata": {},
   "source": [
    "### Greitas uždavinys 4\n",
    "\n",
    "Panaudojant `items()` žodyno metodą ir `for` ciklą, suformatuotai išspausdinkite vaisių sąrašą su kiekiais, kiekius kaip stulpelį lygiuodami iš dešinės"
   ]
  },
  {
   "cell_type": "code",
   "execution_count": 52,
   "metadata": {},
   "outputs": [
    {
     "name": "stdout",
     "output_type": "stream",
     "text": [
      "mango            7\n",
      "arbuzas          3\n",
      "greifruktas      5\n"
     ]
    }
   ],
   "source": [
    "vaisiai = {\"mango\": 7, \"arbuzas\": 3, \"greifruktas\": 5}\n",
    "for vaisius, kiekis, in vaisiai.items():\n",
    "   print(f\"{vaisius:12} {kiekis:>5}\")\n",
    "\n",
    "  "
   ]
  },
  {
   "cell_type": "markdown",
   "metadata": {},
   "source": [
    "---\n",
    "\n",
    "Galima kreiptis į žodyno elementus su raktu cikle, naudojant `keys()` metodą. Pavyzdys su gerąja praktika keičiant elemento reikšmę:"
   ]
  },
  {
   "cell_type": "code",
   "execution_count": 9,
   "metadata": {},
   "outputs": [
    {
     "name": "stdout",
     "output_type": "stream",
     "text": [
      "Dabar Rokas 20\n",
      "Po pakeitimo Rokas 21\n",
      "Dabar Andrius 34\n",
      "Po pakeitimo Andrius 35\n",
      "Dabar Laura 25\n",
      "Po pakeitimo Laura 26\n"
     ]
    }
   ],
   "source": [
    "zmones = {'Rokas': 20, 'Andrius': 34, 'Laura': 25}\n",
    "\n",
    "for zmogus in zmones.keys():\n",
    "    print(\"Dabar\", zmogus, zmones[zmogus])\n",
    "    zmones[zmogus] += 1\n",
    "    print(\"Po pakeitimo\", zmogus, zmones[zmogus])"
   ]
  },
  {
   "cell_type": "markdown",
   "metadata": {},
   "source": [
    "### Greitas uždavinys 5\n",
    "\n",
    "Sumažinkite visus vaisius per 10. Jeigu vaisiaus kiekis tapo mažesnis už 0, nustatykite tą reikšmę kaip teigiamą panaudojant `abs()` funkcija."
   ]
  },
  {
   "cell_type": "code",
   "execution_count": 55,
   "metadata": {},
   "outputs": [
    {
     "name": "stdout",
     "output_type": "stream",
     "text": [
      "Dabar istorija 251\n",
      "po pakeitimo istorija 241\n",
      "Dabar biologija 153\n",
      "po pakeitimo biologija 143\n",
      "Dabar matematika 353\n",
      "po pakeitimo matematika 343\n"
     ]
    }
   ],
   "source": [
    "knygos = {\"istorija\": 251, \"biologija\": 153, \"matematika\": 353}\n",
    "\n",
    "for knyga in knygos.keys():\n",
    "    print(\"Dabar\", knyga, knygos[knyga])\n",
    "    knygos[knyga] -= 10\n",
    "    print(\"po pakeitimo\", knyga, knygos[knyga])"
   ]
  },
  {
   "cell_type": "markdown",
   "metadata": {},
   "source": [
    "---\n",
    "\n",
    "## `for` ciklas su `range()` funkcija\n",
    "\n",
    "`range()` funkcija generuoja skaičių seka nuo pradžios iki pabaigos. Galime naudoti `for` ciklą su `range` funkcija, kad atliktume veiksmus su kiekvienu skaičiumi sekoje."
   ]
  },
  {
   "cell_type": "code",
   "execution_count": 15,
   "metadata": {},
   "outputs": [
    {
     "name": "stdout",
     "output_type": "stream",
     "text": [
      "1\n",
      "2\n",
      "3\n",
      "4\n",
      "5\n"
     ]
    }
   ],
   "source": [
    "for skaicius in range(1, 6):\n",
    "    print(skaicius)"
   ]
  },
  {
   "cell_type": "markdown",
   "metadata": {},
   "source": [
    "### Greitas uždavinys 6\n",
    "\n",
    "Parašykite ciklą, skaičiuojantį nuo 10 iki 0 atbulyn."
   ]
  },
  {
   "cell_type": "code",
   "execution_count": 66,
   "metadata": {},
   "outputs": [
    {
     "name": "stdout",
     "output_type": "stream",
     "text": [
      "10\n",
      "9\n",
      "8\n",
      "7\n",
      "6\n",
      "5\n",
      "4\n",
      "3\n",
      "2\n",
      "1\n"
     ]
    }
   ],
   "source": [
    "skaiciai = {1, 2, 3, 4, 5, 6, 7, 8, 9, 10}\n",
    "for skaiciai in range(10, 0, -1):\n",
    "    print(skaiciai)"
   ]
  },
  {
   "cell_type": "markdown",
   "metadata": {},
   "source": [
    "---\n",
    "\n",
    "## Ciklo nutraukimo komanda `break`\n",
    "Komandą `break` naudojame, norėdami nutraukti `for` ciklą ir tęsti su sekančia kodo dalimi."
   ]
  },
  {
   "cell_type": "code",
   "execution_count": 29,
   "metadata": {},
   "outputs": [
    {
     "name": "stdout",
     "output_type": "stream",
     "text": [
      "1\n",
      "2\n",
      "radau 3\n"
     ]
    }
   ],
   "source": [
    "skaiciai = [1, 2, 3, 4, 5]\n",
    "\n",
    "for skaicius in skaiciai:\n",
    "    if skaicius == 3:\n",
    "        radau = 3\n",
    "        break\n",
    "    print(skaicius)\n",
    "print('radau', radau)"
   ]
  },
  {
   "cell_type": "markdown",
   "metadata": {},
   "source": [
    "Kaip matote, programa nutraukė ciklą pasiekusi skaičių \"`3`\" ir nespausdino kitų skaičių, kurie buvo išvardyti po jo."
   ]
  },
  {
   "cell_type": "markdown",
   "metadata": {},
   "source": [
    "### Greitas uždavinys 7\n",
    "\n",
    "Iterkuokite vaisių žodyną tol, kol rasite konkretų vaisių, pvz. obuolius. Radę, išspausdinkite to vaisiaus kiekį ir nutraukite ciklą. Taip pat išspausdinkite vaisių pavadinimus, kuriuos palietėte ieškojimo metu, be kiekių."
   ]
  },
  {
   "cell_type": "code",
   "execution_count": 84,
   "metadata": {},
   "outputs": [
    {
     "name": "stdout",
     "output_type": "stream",
     "text": [
      "mango\n",
      "arbuzas\n",
      "greifruktas\n",
      "bananas 9\n"
     ]
    }
   ],
   "source": [
    "vaisiai = {\"mango\": 7, \"arbuzas\": 3, \"greifruktas\": 5, \"bananas\": 9, \"obolis\": 0, \"lime\": 13 }\n",
    "\n",
    "\n",
    "for vaisius in vaisiai:\n",
    "    if vaisius == \"bananas\":\n",
    "        print(vaisius, vaisiai[vaisius])\n",
    "        break\n",
    "    print(vaisius)\n",
    " \n",
    "            \n",
    "\n",
    "\n",
    "  \n"
   ]
  },
  {
   "cell_type": "markdown",
   "metadata": {},
   "source": [
    "---\n",
    "\n",
    "## Ciklo pratęsimo komanda `continue`\n",
    "\n",
    "Kai naudojame pratęsimo komandą `continue`, programa praleidžia šią iteraciją ir tęsia su kitu elementu kolekcijoje. \n",
    "\n",
    "Pavyzdžiui:"
   ]
  },
  {
   "cell_type": "code",
   "execution_count": 31,
   "metadata": {},
   "outputs": [
    {
     "name": "stdout",
     "output_type": "stream",
     "text": [
      "1\n",
      "3\n",
      "7\n",
      "9\n"
     ]
    }
   ],
   "source": [
    "skaiciai = [1, 2, 3, 4, 5, 6, 7, 8, 9]\n",
    "\n",
    "for skaicius in skaiciai:\n",
    "    if skaicius % 2 == 0:\n",
    "        continue\n",
    "    if skaicius == 5:\n",
    "        continue\n",
    "    print(skaicius)"
   ]
  },
  {
   "cell_type": "markdown",
   "metadata": {},
   "source": [
    "### Greitas uždavinys 8\n",
    "\n",
    "Iteruojant per vaisių žodyną, išspausdinkite tik tų vaisių pavadinimus, kurių kiekis yra daugiau negu 10. Sprendime panaudokite `continue`."
   ]
  },
  {
   "cell_type": "code",
   "execution_count": 93,
   "metadata": {},
   "outputs": [
    {
     "name": "stdout",
     "output_type": "stream",
     "text": [
      "lime            13\n"
     ]
    }
   ],
   "source": [
    "for vaisius, kiekis in vaisiai.items():\n",
    "    if kiekis <= 10:\n",
    "        continue\n",
    "    print(f\"{vaisius:12} {kiekis:>5}\")        "
   ]
  },
  {
   "cell_type": "markdown",
   "metadata": {},
   "source": [
    "Kaip matote, programa praleido lyginius skaičius ir 5, ir tęsė su spausdinimą likusių skaičių sąraše."
   ]
  },
  {
   "cell_type": "markdown",
   "metadata": {},
   "source": [
    "---\n",
    "\n",
    "## `else` blokas `for` cikle\n",
    "\n",
    "`else` blokas naudojamas atlikti tam tikrus veiksmus, kai `for` ciklas pasiekia savo pabaigą."
   ]
  },
  {
   "cell_type": "code",
   "execution_count": 38,
   "metadata": {},
   "outputs": [
    {
     "name": "stdout",
     "output_type": "stream",
     "text": [
      "1\n",
      "2\n",
      "3\n",
      "4\n",
      "5\n",
      "for ciklo pabaiga.\n"
     ]
    }
   ],
   "source": [
    "skaiciai = [1, 2, 3, 4, 5]\n",
    "\n",
    "for skaicius in skaiciai:\n",
    "    if not type(skaicius) == int:\n",
    "        break\n",
    "    print(skaicius)\n",
    "else:\n",
    "    print('for ciklo pabaiga.')"
   ]
  },
  {
   "cell_type": "markdown",
   "metadata": {},
   "source": [
    "Jei ciklą nutrauksime naudodami `break` komandą, `else` sąlygos blokas nebus vykdomas."
   ]
  },
  {
   "cell_type": "code",
   "execution_count": 39,
   "metadata": {},
   "outputs": [
    {
     "name": "stdout",
     "output_type": "stream",
     "text": [
      "1\n",
      "2\n",
      "3\n",
      "4\n"
     ]
    }
   ],
   "source": [
    "skaiciai = [1, 2, 3, 4, 'triuksmas', 5]\n",
    "\n",
    "for skaicius in skaiciai:\n",
    "    if not type(skaicius) == int:\n",
    "        break\n",
    "    print(skaicius)\n",
    "else:\n",
    "    print('for ciklo pabaiga.')"
   ]
  },
  {
   "cell_type": "markdown",
   "metadata": {},
   "source": [
    "### Greitas uždavinys 9\n",
    "\n",
    "Sutikrinkite, ar visų vaisių kiekiai yra pozityvūs skaičiai. Jeigu taip, išspausdinkite pranešimą, kad vaisių sąrašas tvarkingas. Radę klaidą, išspausdinkite klaidos pranešimą. Fiktyviai pamodifikuokite vaisių žodyną, kad iššaukti klaidą."
   ]
  },
  {
   "cell_type": "code",
   "execution_count": 95,
   "metadata": {},
   "outputs": [
    {
     "name": "stdout",
     "output_type": "stream",
     "text": [
      "viskas gerai\n",
      "viskas gerai\n",
      "viskas gerai\n",
      "viskas gerai\n",
      "viskas gerai\n",
      "viskas gerai\n"
     ]
    }
   ],
   "source": [
    "for vaisius, kiekis in vaisiai.items():\n",
    "    if not type(kiekis) or kiekis < 0:\n",
    "        print(f\"{vaisius} vaisiaus kiekis geras\" ) \n",
    "        print(f\"{kiekis} kiekis blogas\")\n",
    "        break\n",
    "    else:\n",
    "        print(\"viskas gerai\")"
   ]
  },
  {
   "cell_type": "markdown",
   "metadata": {},
   "source": [
    "---\n",
    "\n",
    "## Sąrašo iteracija su indeksu\n",
    "\n",
    "`enumerate()` funkcija, naudojama kartu su `for` ciklu, grąžina poras, kur pirmasis kiekvienos poros elementas yra elemento indeksas, o antrasis - pats sąrašo elementas. \n",
    "\n",
    "Pavyzdžiui:"
   ]
  },
  {
   "cell_type": "code",
   "execution_count": 45,
   "metadata": {},
   "outputs": [
    {
     "name": "stdout",
     "output_type": "stream",
     "text": [
      "0 ananasas\n",
      "1 bananas\n",
      "2 citrika\n",
      "3 datulė\n"
     ]
    }
   ],
   "source": [
    "vaisiai = ['ananasas', 'bananas', 'citrika', 'datulė']\n",
    "for indeksas, vaisius in enumerate(vaisiai):\n",
    "    print(indeksas, vaisius)"
   ]
  },
  {
   "cell_type": "markdown",
   "metadata": {},
   "source": [
    "### Greitas uždavinys 10\n",
    "\n",
    "Sukurkite sąrašą knygų, kurias vis neprisiruošiate perskaityti, ir atspausdinkite jų sunumeruotą sąrašą."
   ]
  },
  {
   "cell_type": "code",
   "execution_count": 96,
   "metadata": {},
   "outputs": [
    {
     "name": "stdout",
     "output_type": "stream",
     "text": [
      "0 zuvis vandenyje\n",
      "1 sielu keliones\n",
      "2 pabudimo knyga\n",
      "3 grybo sapnas\n"
     ]
    }
   ],
   "source": [
    "# jusu kodo vieta\n",
    "knygos = [\"zuvis vandenyje\", \"sielu keliones\", \"pabudimo knyga\", \"grybo sapnas\"]\n",
    "for indeksas, knyga in enumerate(knygos):\n",
    "    print(indeksas, knyga)\n",
    "\n"
   ]
  },
  {
   "cell_type": "markdown",
   "metadata": {},
   "source": [
    "---\n",
    "\n",
    "## Įterptinė (nested) `for` ciklo Konstrukcija\n",
    "\n",
    "Įterptinė(nested) `for` ciklo konstrukcija leidžia kurti ciklus, kuriuose vienas ar daugiau vidinių ciklų vykdomi kiekvienai išorinio ciklo iteracijai. \n",
    "- Tai ypač naudinga, kai turime duomenų struktūrą, kurią reikia analizuoti arba apdoroti sudėtingu būdu. \n",
    "\n",
    "**Pavyzdžiui**:"
   ]
  },
  {
   "cell_type": "code",
   "execution_count": 37,
   "metadata": {},
   "outputs": [
    {
     "name": "stdout",
     "output_type": "stream",
     "text": [
      "žalias ąžuolas yra gražus\n",
      "žalias beržas yra gražus\n",
      "žalias uosis yra gražus\n",
      "geltonas ąžuolas yra gražus\n",
      "geltonas beržas yra gražus\n",
      "geltonas uosis yra gražus\n",
      "raudonas ąžuolas yra gražus\n",
      "raudonas beržas yra gražus\n",
      "raudonas uosis yra gražus\n"
     ]
    }
   ],
   "source": [
    "spalvos = ['žalias', 'geltonas', 'raudonas']\n",
    "medziai = ['ąžuolas', 'beržas', 'uosis']\n",
    "\n",
    "for spalva in spalvos:\n",
    "    for medis in medziai:\n",
    "        print(spalva, medis, 'yra gražus')"
   ]
  },
  {
   "cell_type": "markdown",
   "metadata": {},
   "source": [
    "### Greitas uždavinys 11\n",
    "\n",
    "Čia yra mokinių ir jų pažymių žodynas:"
   ]
  },
  {
   "cell_type": "code",
   "execution_count": 18,
   "metadata": {},
   "outputs": [
    {
     "name": "stdout",
     "output_type": "stream",
     "text": [
      "Alicija pazymis:\n",
      "Alicija: {'Matematika': 85, 'Mokslas': 92, 'Istorija': 88}\n",
      "Bobas: {'Matematika': 78, 'Mokslas': 85, 'Istorija': 90}\n",
      "Charlis: {'Matematika': 92, 'Mokslas': 88, 'Istorija': 76}\n",
      "Bobas pazymis:\n",
      "Alicija: {'Matematika': 85, 'Mokslas': 92, 'Istorija': 88}\n",
      "Bobas: {'Matematika': 78, 'Mokslas': 85, 'Istorija': 90}\n",
      "Charlis: {'Matematika': 92, 'Mokslas': 88, 'Istorija': 76}\n",
      "Charlis pazymis:\n",
      "Alicija: {'Matematika': 85, 'Mokslas': 92, 'Istorija': 88}\n",
      "Bobas: {'Matematika': 78, 'Mokslas': 85, 'Istorija': 90}\n",
      "Charlis: {'Matematika': 92, 'Mokslas': 88, 'Istorija': 76}\n",
      "\n"
     ]
    }
   ],
   "source": [
    "mokinio_pazymiai = {\n",
    "'Alicija': {'Matematika': 85, 'Mokslas': 92, 'Istorija': 88},\n",
    "'Bobas': {'Matematika': 78, 'Mokslas': 85, 'Istorija': 90},\n",
    "'Charlis': {'Matematika': 92, 'Mokslas': 88, 'Istorija': 76}\n",
    " }\n",
    "for studentas, pazymis in mokinio_pazymiai.items():\n",
    "    print(f\"{studentas} pazymis:\")\n",
    "    for dalykas, pazymis in mokinio_pazymiai.items():\n",
    "        print(f\"{dalykas}: {pazymis}\")\n",
    "print()\n",
    "    "
   ]
  },
  {
   "cell_type": "markdown",
   "metadata": {},
   "source": [
    "Sukurkite įterptinį `for` ciklą, kuris atspausdintų mokinio vardą ir dalykus su pažymiais."
   ]
  },
  {
   "cell_type": "markdown",
   "metadata": {},
   "source": [
    "---\n",
    "\n",
    "## Užduotis 1\n",
    "\n",
    "Sukurkite programėlę, kuri:\n",
    "\n",
    "1. Leistu vartotojui įvesti 5 žodžius po vieną\n",
    "1. Pridėtų įvestus žodžius į sąrašą\n",
    "1. Atspausdintų kiekvieną žodį, jo ilgį ir eilės numerį sąraše (pradedant nuo 1)\n",
    "Papildoma: Leiskite programėlei įvesti tiek žodžių, kiek jums reikia. \n",
    "\n",
    "Patarimas: Naudokite `sąrašą`, ciklą `for`, funkcijas `len` ir `index`"
   ]
  },
  {
   "cell_type": "code",
   "execution_count": 5,
   "metadata": {},
   "outputs": [
    {
     "name": "stdout",
     "output_type": "stream",
     "text": [
      "zodis1:namas, ilgis yra 5\n",
      "zodis2:krumas, ilgis yra 6\n",
      "zodis3:soliukas, ilgis yra 8\n",
      "zodis4:stalas, ilgis yra 6\n",
      "zodis5:miskas, ilgis yra 6\n"
     ]
    }
   ],
   "source": [
    "zodziai = []\n",
    "for i in range(1,6):\n",
    "    vartotojo_ivedimas = input(\"iveskyte zodi: \")\n",
    "    zodziai.append(vartotojo_ivedimas)\n",
    "\n",
    "for i in range(len(zodziai)):\n",
    "    zodis = zodziai[i]\n",
    "    print(f\"zodis{i + 1}:{zodis}, ilgis yra {len(zodis)}\")"
   ]
  },
  {
   "cell_type": "markdown",
   "metadata": {},
   "source": [
    "---\n",
    "\n",
    "## Užduotis 2\n",
    "\n",
    "Parašykite programą. kuri atspausdintų visus keliamuosius metus nuo 1900 iki 2100."
   ]
  },
  {
   "cell_type": "code",
   "execution_count": 6,
   "metadata": {},
   "outputs": [
    {
     "name": "stdout",
     "output_type": "stream",
     "text": [
      "1904\n",
      "1908\n",
      "1912\n",
      "1916\n",
      "1920\n",
      "1924\n",
      "1928\n",
      "1932\n",
      "1936\n",
      "1940\n",
      "1944\n",
      "1948\n",
      "1952\n",
      "1956\n",
      "1960\n",
      "1964\n",
      "1968\n",
      "1972\n",
      "1976\n",
      "1980\n",
      "1984\n",
      "1988\n",
      "1992\n",
      "1996\n",
      "2000\n",
      "2004\n",
      "2008\n",
      "2012\n",
      "2016\n",
      "2020\n",
      "2024\n",
      "2028\n",
      "2032\n",
      "2036\n",
      "2040\n",
      "2044\n",
      "2048\n",
      "2052\n",
      "2056\n",
      "2060\n",
      "2064\n",
      "2068\n",
      "2072\n",
      "2076\n",
      "2080\n",
      "2084\n",
      "2088\n",
      "2092\n",
      "2096\n"
     ]
    }
   ],
   "source": [
    "keliamieji_metai = range(1900, 2100 )\n",
    "for metai in keliamieji_metai:\n",
    "    if metai % 4 == 0 and metai % 100 != 0 or metai % 400 == 0:\n",
    "        print(metai)"
   ]
  }
 ],
 "metadata": {
  "kernelspec": {
   "display_name": "venv",
   "language": "python",
   "name": "python3"
  },
  "language_info": {
   "codemirror_mode": {
    "name": "ipython",
    "version": 3
   },
   "file_extension": ".py",
   "mimetype": "text/x-python",
   "name": "python",
   "nbconvert_exporter": "python",
   "pygments_lexer": "ipython3",
   "version": "3.12.1"
  }
 },
 "nbformat": 4,
 "nbformat_minor": 2
}
