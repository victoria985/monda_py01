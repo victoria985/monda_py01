{
 "cells": [
  {
   "cell_type": "markdown",
   "metadata": {},
   "source": [
    "# `Greita Užduotis 1: Sukurkite Sąrašą`"
   ]
  },
  {
   "cell_type": "code",
   "execution_count": null,
   "metadata": {},
   "outputs": [],
   "source": [
    "# 1. Sukurkite `sąrašą`, kuriame yra bent penkių jūsų mėgstamiausių maisto pavadinimų.\n",
    "# 2. Atspausdinkite visą sąrašą.\n",
    "\n",
    "favorite_foods = [\"pizza\", \"sushi\", \"chocolate\", \"ice cream\", \"pasta\"]\n",
    "\n",
    "print(favorite_foods)"
   ]
  },
  {
   "cell_type": "markdown",
   "metadata": {},
   "source": [
    "# `Greita Užduotis 2: Vaisių Indeksavimas`"
   ]
  },
  {
   "cell_type": "code",
   "execution_count": 1,
   "metadata": {},
   "outputs": [
    {
     "name": "stdout",
     "output_type": "stream",
     "text": [
      "kriaušė\n",
      "ananasas\n",
      "['bananas', 'vynuogė']\n"
     ]
    }
   ],
   "source": [
    "# Sukurti vaisių sąrašą\n",
    "vaisiai = ['obuolys', 'kriaušė', 'bananas', 'vynuogė', 'ananasas']\n",
    "\n",
    "# Atspausdinti antrą vaisių sąraše, naudodami indeksavimą\n",
    "print(vaisiai[1])\n",
    "\n",
    "# Atspausdinti paskutinį vaisių sąraše, naudodami neigiamą indeksavimą\n",
    "print(vaisiai[-1])\n",
    "\n",
    "# Atspausdinti trečią ir ketvirtą vaisius sąraše, naudodami teigiamą indeksavimą\n",
    "print(vaisiai[2:4])"
   ]
  },
  {
   "cell_type": "markdown",
   "metadata": {},
   "source": [
    "# `Greita Užduotis 3: Sąrašų Iškarpymas ir Keitimas`"
   ]
  },
  {
   "cell_type": "code",
   "execution_count": null,
   "metadata": {},
   "outputs": [],
   "source": [
    "fruits = ['obuolys', 'kriaušė', 'bananas', 'apelsinas', 'lotosas']\n",
    "\n",
    "# Atspausdinti pirmuosius tris elementus\n",
    "print(fruits[:3])\n",
    "\n",
    "# Atspausdinti paskutinius du elementus\n",
    "print(fruits[-2:])\n",
    "\n",
    "# Atspausdinti tris elementus iš vidurio\n",
    "middle_index = len(fruits) // 2\n",
    "print(fruits[middle_index - 1:middle_index + 2])\n",
    "\n",
    "# Atspausdinti kiekvieną antrą elementą\n",
    "print(fruits[::2])"
   ]
  },
  {
   "cell_type": "markdown",
   "metadata": {},
   "source": [
    "# `Greita Užduotis 4`:"
   ]
  },
  {
   "cell_type": "code",
   "execution_count": null,
   "metadata": {},
   "outputs": [],
   "source": [
    "# Pridėti dar vieną mėgstamo maisto pavadinimą į sąrašo galą\n",
    "favorite_foods.append('kebabas')\n",
    "print(favorite_foods)\n",
    "\n",
    "# Įterpti naują maisto elementą į sąrašo ketvirtąją poziciją\n",
    "favorite_foods.insert(3, 'spaghetti')\n",
    "print(favorite_foods)\n",
    "\n",
    "# Pakeisti sąrašo antrąjį elementą kita mėgstamo maisto pavadinimu\n",
    "favorite_foods[1] = 'sūrio pyragas'\n",
    "print(favorite_foods)\n",
    "\n",
    "# Pašalinti sąrašo pirmąjį elementą\n",
    "favorite_foods.remove(favorite_foods[0])\n",
    "print(favorite_foods)\n",
    "\n",
    "# Pašalinti sąrašo trečiąjį elementą\n",
    "favorite_foods.remove(favorite_foods[2])\n",
    "print(favorite_foods)\n",
    "\n",
    "# Atrasti bet kurio elemento indeksą sąraše\n",
    "index_of_pasta = favorite_foods.index('pasta')\n",
    "print(f'Indeksas, kuriame yra \"pasta\": {index_of_pasta}')\n",
    "\n",
    "# Atspausdinti sąrašą atvirkštine tvarka\n",
    "favorite_foods.reverse()\n",
    "print(favorite_foods)\n",
    "\n"
   ]
  },
  {
   "cell_type": "markdown",
   "metadata": {},
   "source": [
    "# `Greita Užduotis 6: Tikrinti Maisto Produktą`"
   ]
  },
  {
   "cell_type": "code",
   "execution_count": null,
   "metadata": {},
   "outputs": [],
   "source": [
    "# Maisto produktų sąrašas\n",
    "food_products = [\"obuolys\", \"bananas\", \"vyšnia\", \"datulė\", \"juoduju serbentų uogienė\"]\n",
    "\n",
    "# Pasirinkite maisto produktą, kurio nėra sąraše (pavyzdžiui, \"braškė\").\n",
    "chosen_food = \"braškė\"\n",
    "\n",
    "# Naudodami `in` operatorių, patikrinkite, ar pasirinktas maisto produktas yra sąraše.\n",
    "is_in_list = chosen_food in food_products\n",
    "\n",
    "# Atspausdinkite rezultatą (True, jei produktas yra sąraše, arba False, jei jo nėra).\n",
    "print(is_in_list)"
   ]
  }
 ],
 "metadata": {
  "kernelspec": {
   "display_name": "venv",
   "language": "python",
   "name": "python3"
  },
  "language_info": {
   "codemirror_mode": {
    "name": "ipython",
    "version": 3
   },
   "file_extension": ".py",
   "mimetype": "text/x-python",
   "name": "python",
   "nbconvert_exporter": "python",
   "pygments_lexer": "ipython3",
   "version": "3.12.1"
  }
 },
 "nbformat": 4,
 "nbformat_minor": 2
}
