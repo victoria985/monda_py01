{
 "cells": [
  {
   "cell_type": "markdown",
   "metadata": {},
   "source": [
    "# Funkcijos aprašymo struktūra\n",
    "\n",
    "Python programavimo kalboje funkcijos aprašymo struktūra yra pagrindinė dalis, leidžianti mums kurti ir naudoti funkcijas. \n",
    "\n",
    "- Ji prasideda žodžiu `def`, kurį seka funkcijos `pavadinimas` ir `argumentai`, esantys skliaustuose.\n",
    "- Funkcijos veiksmai yra aprašomi įrėmintame bloke po funkcijos apibrėžimu. \n",
    "\n",
    "Kad būtų aiškiau, štai kelios svarbios dalys:\n",
    "\n",
    "- Žodis `def` praneša Python, kad mes aprašome funkciją.\n",
    "- `function_name` tai yra pavadinimas, kurį mes pasirenkame savo funkcijai. Jis turi atspindėti funkcijos tikslą.\n",
    "- `arguments` yra reikšmės, kurias mes paduosime funkcijai kaip įvestį. Tai kaip kintamieji, kurie bus naudojami funkcijos viduje.\n",
    "\n",
    "Norint suprasti, kaip tai veikia, pažiūrėkime į šį pavyzdį:"
   ]
  },
  {
   "cell_type": "code",
   "execution_count": null,
   "metadata": {},
   "outputs": [],
   "source": [
    "def sveikinti(vardas):\n",
    "    \"\"\"Ši funkcija sveikina asmenį, perduotą kaip argumentą.\"\"\"\n",
    "    print(f\"Sveiki, {vardas}!\")\n",
    "\n",
    "# Pavyzdžio Panaudojimas\n",
    "sveikinti(\"Jonas\")"
   ]
  },
  {
   "cell_type": "markdown",
   "metadata": {},
   "source": [
    "- Šiame pavyzdyje sveikinti yra funkcijos `pavadinimas`, ji priima vieną argumentą (`vardas`), ir pasveikina asmenį su nurodytu vardu. \n",
    "- Funkcija yra iškviesta su argumentu \"`Jonas`\", ir rezultatas yra atspausdinamas į konsolę."
   ]
  },
  {
   "cell_type": "markdown",
   "metadata": {},
   "source": [
    "Štai pavyzdys, kaip apibrėžti funkciją, kuri priima `du` `argumentus` ir juos spausdina į konsolę."
   ]
  },
  {
   "cell_type": "code",
   "execution_count": 4,
   "metadata": {},
   "outputs": [
    {
     "name": "stdout",
     "output_type": "stream",
     "text": [
      "Vardas: Jonas\n",
      "Amžius: 25\n"
     ]
    }
   ],
   "source": [
    "def spausdinti_argumentus(vardas, amžius):\n",
    "    \"\"\"Ši funkcija priima du argumentus ir juos spausdina į konsolę.\"\"\"\n",
    "    print(f\"Vardas: {vardas}\")\n",
    "    print(f\"Amžius: {amžius}\")\n",
    "\n",
    "spausdinti_argumentus(\"Jonas\", 25)"
   ]
  },
  {
   "cell_type": "markdown",
   "metadata": {},
   "source": [
    "- Šiame pavyzdyje spausdinti_argumentus funkcija apibrėžta priimti `du` `argumentus` (`vardą` ir `amžių`) ir juos spausdina į konsolę.\n",
    "- Tada funkcija yra iškviesta su argumentais \"`Jonas`\" ir \"`25`\"."
   ]
  },
  {
   "cell_type": "markdown",
   "metadata": {},
   "source": [
    "# `Greitas uždavinys 1: Funkcijos aprašymo struktūra`\n",
    "\n",
    "**Instrukcijos**:\n",
    "\n",
    "1. Aprašykite funkciją pavadinimu `apskaiciuoti_plota`, kuri priima `du` parametrus, `ilgį` ir `plotį`, ir apskaičiuoja stačiakampio plotą.\n",
    "1. Atpausdinkite apskaičiuotą plotą."
   ]
  },
  {
   "cell_type": "code",
   "execution_count": 25,
   "metadata": {},
   "outputs": [
    {
     "name": "stdout",
     "output_type": "stream",
     "text": [
      "Paskaiciavimai lygu:24\n"
     ]
    }
   ],
   "source": [
    "# jusu kodo vieta\n",
    "def apskaiciuotas_plotas(ilgis, plotis):\n",
    "    rezultatas = ilgis * plotis\n",
    "    print(f'Paskaiciavimai lygu:{rezultatas}')\n",
    "    \n",
    "\n",
    "apskaiciuotas_plotas(12,2)"
   ]
  },
  {
   "cell_type": "markdown",
   "metadata": {},
   "source": [
    "## `if`, `elif`, `else` naudojimas Funkcijoje\n",
    "\n",
    "Galite naudoti sąlygas, tokias kaip `if`, `elif` arba `else` ir taip funkcijoje vykdyti skirtingus veiksmus pagal konkrečias sąlygas.\n",
    "\n",
    "**Štai pavyzdys**:"
   ]
  },
  {
   "cell_type": "code",
   "execution_count": null,
   "metadata": {},
   "outputs": [],
   "source": [
    "def ivertinti_pazymi(balas):\n",
    "    \"\"\"Ši funkcija įvertina ir atspausdina pažymį pagal pateiktą balą.\"\"\"\n",
    "    if balas >= 90:\n",
    "        print(\"A: Puiku\")\n",
    "    elif 80 <= balas < 90:\n",
    "        print(\"B: Geras\")\n",
    "    elif 70 <= balas < 80:\n",
    "        print(\"C: Patenkinamas\")\n",
    "    elif 60 <= balas < 70:\n",
    "        print(\"D: Reikia Pataisymų\")\n",
    "    else:\n",
    "        print(\"F: Nepavyko\")"
   ]
  },
  {
   "cell_type": "code",
   "execution_count": null,
   "metadata": {},
   "outputs": [],
   "source": [
    "# Pavyzdžio panaudojimas\n",
    "ivertinti_pazymi(75)"
   ]
  },
  {
   "cell_type": "markdown",
   "metadata": {},
   "source": [
    "- Šiame pavyzdyje `ivertinti_pazymi` funkcija priima balą kaip `argumentą` ir naudoja `if`, `elif` ir `else` pareiškas, kad nustatytų ir spausdintų atitinkamą pažymį pagal pateiktą balą. \n",
    "- Tada funkcija yra iškviesta su argumentu `75`."
   ]
  },
  {
   "cell_type": "markdown",
   "metadata": {},
   "source": [
    "**Antrasis pavyzdys**:"
   ]
  },
  {
   "cell_type": "code",
   "execution_count": 27,
   "metadata": {},
   "outputs": [],
   "source": [
    "def ar_lyginis_ar_nelyginis(skaicius):\n",
    "    \"\"\"Ši funkcija nustato, ar duotas skaičius yra lyginis arba nelyginis.\"\"\"\n",
    "    rezultatas = \"Lyginis\" if skaicius % 2 == 0 else \"Nelyginis\"\n",
    "    print(f\"Skaičius {skaicius} yra {rezultatas}.\")"
   ]
  },
  {
   "cell_type": "code",
   "execution_count": 28,
   "metadata": {},
   "outputs": [
    {
     "name": "stdout",
     "output_type": "stream",
     "text": [
      "Skaičius 15 yra Nelyginis.\n"
     ]
    }
   ],
   "source": [
    "# Pavyzdžio panaudojimas\n",
    "ar_lyginis_ar_nelyginis(15)"
   ]
  },
  {
   "cell_type": "markdown",
   "metadata": {},
   "source": [
    "- Šiame pavyzdyje `ar_lyginis_ar_nelyginis` funkcija priima skaičių kaip `argumentą` ir naudoja sąlyginę išraišką (`if-else` vienoje eilutėje), kad patikrintų, ar skaičius yra `lyginis` arba `nelyginis`. \n",
    "- Tada rezultatas spausdinamas į konsolę. Funkcija yra iškviesta su argumentu `15`."
   ]
  },
  {
   "cell_type": "markdown",
   "metadata": {},
   "source": [
    "Trumpai tariant, Python funkcija apibrėžiama naudojant `def` pareiškimą, po kurio seka funkcijos `pavadinimas` ir jos `argumentai`. Funkcijoje galite naudoti sąlygas, kad atliktumėte skirtingus veiksmus pagal sąlygas, ir funkcijos gali priimti bet kokį kiekį argumentų arba visai jų neturėti."
   ]
  },
  {
   "cell_type": "markdown",
   "metadata": {},
   "source": [
    "# `Greitas uždavinys 2: Patikrinkite: Lyginis arba Nelyginis`\n",
    "\n",
    "1. Parašykite funkciją, kuri patikrintų, ar skaičius yra `lyginis` arba `nelyginis`\n",
    "1. Atspausdinkite atitinkamą pranešimą."
   ]
  },
  {
   "cell_type": "code",
   "execution_count": 32,
   "metadata": {},
   "outputs": [
    {
     "name": "stdout",
     "output_type": "stream",
     "text": [
      "skaicius yra nelyginis\n",
      "skaicius yra lyginis\n"
     ]
    }
   ],
   "source": [
    "# jusu kodo vieta\n",
    "def skaiciu_lyginimas(skaicius):\n",
    "    if skaicius % 2 ==0: \n",
    "        print('skaicius yra lyginis')\n",
    "    else:\n",
    "        print('skaicius yra nelyginis')\n",
    "\n",
    "skaiciu_lyginimas(5) \n",
    "skaiciu_lyginimas(8)       "
   ]
  },
  {
   "cell_type": "markdown",
   "metadata": {},
   "source": [
    "# `Greitas uždavinys 3: Patikrinkite, ar Teigiamas`\n",
    "1. Parašykite funkciją is_positive(skaicius), kuri patikrintų, ar skaičius yra teigiamas\n",
    "1. Atspausdinkite atitinkamą pranešimą."
   ]
  },
  {
   "cell_type": "code",
   "execution_count": 35,
   "metadata": {},
   "outputs": [
    {
     "name": "stdout",
     "output_type": "stream",
     "text": [
      "skaicius yra teigiamas\n",
      "skaicius yra neigiamas\n"
     ]
    }
   ],
   "source": [
    "# jusu kodo vieta\n",
    "def teigiamas_ar_neigiamas(skaicius):\n",
    "    if skaicius >= 0:\n",
    "        print('skaicius yra teigiamas')\n",
    "    elif skaicius < 0:\n",
    "        print('skaicius yra neigiamas')\n",
    "    else:\n",
    "        print('sprendimas rastas')\n",
    "\n",
    "teigiamas_ar_neigiamas(7) \n",
    "teigiamas_ar_neigiamas(-5)       \n",
    "\n"
   ]
  },
  {
   "cell_type": "markdown",
   "metadata": {},
   "source": [
    "# `Greitas uždavinys 4: Patikrinkite, ar Didesnis nei`\n",
    "\n",
    "1. Parašykite funkciją is_greater_than(skaicius, riba), kuri patikrintų, ar skaičius yra didesnis nei nurodyta riba\n",
    "1. Atspausdinkite atitinkamą pranešimą."
   ]
  },
  {
   "cell_type": "code",
   "execution_count": 38,
   "metadata": {},
   "outputs": [
    {
     "name": "stdout",
     "output_type": "stream",
     "text": [
      "atsakymas ok\n",
      "atsakymas ok\n",
      "atsakymas netinkamas\n"
     ]
    }
   ],
   "source": [
    "# jusu kodo vieta\n",
    "def skaicio_ryba(skaicius):\n",
    "    if skaicius <= 15:\n",
    "        print('atsakymas ok')\n",
    "    elif skaicius > 15:\n",
    "        print('atsakymas netinkamas') \n",
    "\n",
    "skaicio_ryba(7) \n",
    "skaicio_ryba(13)  \n",
    "skaicio_ryba(17)     "
   ]
  }
 ],
 "metadata": {
  "kernelspec": {
   "display_name": "venv",
   "language": "python",
   "name": "python3"
  },
  "language_info": {
   "codemirror_mode": {
    "name": "ipython",
    "version": 3
   },
   "file_extension": ".py",
   "mimetype": "text/x-python",
   "name": "python",
   "nbconvert_exporter": "python",
   "pygments_lexer": "ipython3",
   "version": "3.12.1"
  }
 },
 "nbformat": 4,
 "nbformat_minor": 2
}
