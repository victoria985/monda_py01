{
 "cells": [
  {
   "cell_type": "markdown",
   "metadata": {},
   "source": [
    "# Pirmoji pilna Python programa"
   ]
  },
  {
   "cell_type": "markdown",
   "metadata": {},
   "source": [
    "Jau beveik žinote pakankamai, kad galėtumėte parašyti pilną programą. Liko tik vartotojo įvestis, ir kintamojo tipo konvertavimas. Dabar mes juos ir išmoksime."
   ]
  },
  {
   "cell_type": "markdown",
   "metadata": {},
   "source": [
    "---\n",
    "\n",
    "## Vartotojo ivestis Python kalboje"
   ]
  },
  {
   "cell_type": "markdown",
   "metadata": {},
   "source": [
    "`input()` Funkcija leidžia programai paklausti vartotojo įvesties, ir tada grąžina tą įvestį kaip eilutę (string). \n",
    "\n",
    "**Sintaksė**:\n",
    "```python\n",
    "input(užklausa)\n",
    "```\n",
    "- `užklausa` (neprivaloma): Eilutė, kuri reprezentuoja numatytąjį pranešimą prieš įvestį.\n",
    "\n",
    "**Pavizdys**: Jei paleisite kodą, jums bus paprašyta įvesti savo vardą. Pateikus įvestį ir paspaudus \"Enter\", programa pasveikins jus naudodama vardą, kurį įvedėte."
   ]
  },
  {
   "cell_type": "code",
   "execution_count": 2,
   "metadata": {},
   "outputs": [
    {
     "name": "stdout",
     "output_type": "stream",
     "text": [
      "Labas, smaguolis!\n"
     ]
    }
   ],
   "source": [
    "name = input(\"Prašome įvesti savo vardą: \")\n",
    "print(f\"Labas, {name}!\")"
   ]
  },
  {
   "cell_type": "code",
   "execution_count": 5,
   "metadata": {},
   "outputs": [
    {
     "name": "stdout",
     "output_type": "stream",
     "text": [
      "Labas, Victoria!\n"
     ]
    }
   ],
   "source": [
    "name = input(\"Prasome ivesti savo varda: \")\n",
    "print(f\"Labas, {name}!\")"
   ]
  },
  {
   "cell_type": "markdown",
   "metadata": {},
   "source": [
    "### Greita užduotis 1\n",
    "\n",
    "Parašykite mažą programą, kuri:\n",
    "1. Paklausia vartotojo apie jų mėgstamiausią `spalvą`.\n",
    "2. Paklausia vartotojo `skaičiaus`.\n",
    "3. Atspausdina teiginį, sakydama, \"Tavo mėgstama spalva yra spalva ir tavo mėgstamas skaičius yra skaičius.\""
   ]
  },
  {
   "cell_type": "code",
   "execution_count": 6,
   "metadata": {},
   "outputs": [
    {
     "name": "stdout",
     "output_type": "stream",
     "text": [
      "labas, melyna!\n",
      "777!\n"
     ]
    }
   ],
   "source": [
    "spalva = input(\"Kokia jusu megstama spalva?: \")\n",
    "print(f\"labas, {spalva}!\")\n",
    "skaicius = input(\"koks megstamas jusu skaicius?: \")\n",
    "print(f\"{skaicius}!\")\n"
   ]
  },
  {
   "cell_type": "code",
   "execution_count": 7,
   "metadata": {},
   "outputs": [
    {
     "name": "stdout",
     "output_type": "stream",
     "text": [
      "Mano megstama spalva yra melyna! ir megstamas skaicius yra 777! \n"
     ]
    }
   ],
   "source": [
    "print(f\"Mano megstama spalva yra {spalva}! ir megstamas skaicius yra {skaicius}! \")"
   ]
  },
  {
   "cell_type": "markdown",
   "metadata": {},
   "source": [
    "---\n",
    "\n",
    "**Įvesties tipas**: `input()` Funkcija visada grąžina duomenis kaip testo eilutę (string). Jei norite naudoti šiuos duomenis kaip kitą tipą (pavyzdžiui, sveikąjį skaičių ar slankiojo kablelio skaičių), turėsite konvertuoti juos naudojant tipų keitimo funkcijas, pvz., int() arba float()."
   ]
  },
  {
   "cell_type": "code",
   "execution_count": 4,
   "metadata": {},
   "outputs": [
    {
     "name": "stdout",
     "output_type": "stream",
     "text": [
      "Po 10 metų jums bus 50 metų amžiaus.\n"
     ]
    }
   ],
   "source": [
    "amzius = input(\"Prašome įvesti savo amžių: \")\n",
    "amzius = int(amzius) # Konvertuoti eilutę į sveikąjį skaičių\n",
    "print(f\"Po 10 metų jums bus {amzius + 10} metų amžiaus.\")"
   ]
  },
  {
   "cell_type": "code",
   "execution_count": 7,
   "metadata": {},
   "outputs": [
    {
     "name": "stdout",
     "output_type": "stream",
     "text": [
      "Po 10 metų jums bus 30 metų amžiaus.\n"
     ]
    }
   ],
   "source": [
    "amzius = int(input(\"Prašome įvesti savo amžių: \"))\n",
    "print(f\"Po 10 metų jums bus {amzius + 10} metų amžiaus.\")"
   ]
  },
  {
   "cell_type": "code",
   "execution_count": 14,
   "metadata": {},
   "outputs": [
    {
     "name": "stdout",
     "output_type": "stream",
     "text": [
      "jus storas\n"
     ]
    }
   ],
   "source": [
    "svoris = float(input('iveskite savo svori:'))\n",
    "ugis = int(input('iveskite savo ugi centimetrais:'))\n",
    "if svoris / (ugis - 100) >= 1:\n",
    "    print(\"jus storas\")\n",
    "else:\n",
    "    print(\"galit valgyti\")"
   ]
  },
  {
   "cell_type": "markdown",
   "metadata": {},
   "source": [
    "**Saugumo rūpestis**: Būkite atsargūs naudojant `input()` funkciją, ypač jei ketinate naudoti įvestus duomenis bet kokiame kodo vykdyme ar duomenų bazės užklausose. Netinkamai tvarkant šiuos duomenis gali kilti kodo įterpimo atakos rizika."
   ]
  },
  {
   "cell_type": "markdown",
   "metadata": {},
   "source": [
    "### Greita užduotis 2\n",
    "\n",
    "Parašykite paprastą programą, kuri surenka vartotojo ivestį ir iš jos išveda rezultatą. Būkite kūrybingi!"
   ]
  },
  {
   "cell_type": "code",
   "execution_count": 18,
   "metadata": {},
   "outputs": [
    {
     "name": "stdout",
     "output_type": "stream",
     "text": [
      "Imones pavadinimas UPS 24 metu\n",
      "Bet po 6 metu bus svenciamas imones 30 jubiliejus \n"
     ]
    }
   ],
   "source": [
    "Imones_pavadinimas = input(\"Koks imones pavadinimas?: \")\n",
    "imones_amzius = input (\"kiek imonei metu?: \")\n",
    "print(f\"Imones pavadinimas\", (Imones_pavadinimas), (imones_amzius), \"metu\")\n",
    "\n",
    "imones_amzius = input (\"kiek imonei metu?: \")\n",
    "imones_amzius = int(imones_amzius)\n",
    "print(f\"Bet po 6 metu bus svenciamas imones {imones_amzius + 6} jubiliejus \")"
   ]
  },
  {
   "cell_type": "markdown",
   "metadata": {},
   "source": [
    "---\n",
    "\n",
    "## Išvada"
   ]
  },
  {
   "cell_type": "markdown",
   "metadata": {},
   "source": [
    "`input()` Funkcija yra esminė, norint padaryti savo Python programą interaktyvia. Tai užpildo spragą tarp vartotojo ir mašinos, leidžiant dinamiškiems programos veiksmams pagrįsti vartotojo įvestimi. Taigi dabar jūs turite galimybę parašyti paprastą programą, kuri paprašo vartotojo įvesties ir atlieka sąveiką su įvestimi. Taigi tai puikus momentas pradėti kurti kodą. Būkite kūrybingi."
   ]
  },
  {
   "cell_type": "markdown",
   "metadata": {},
   "source": [
    "---\n",
    "\n",
    "## Užduotis 1"
   ]
  },
  {
   "cell_type": "markdown",
   "metadata": {},
   "source": [
    "Parašykite pilna Python programa (`skaičiuotuvas.py`) - paprastas python skaičiuotuvas kuris:\n",
    "- paklausia vartotojo, kokį veiksmą jis planuoja atlikti\n",
    "- surenka du skaičius\n",
    "- atlieka pasirinkta operaciją su ivestai dviem skaičiais. Nepamirškite konvertuoti ivesties reikiama tipa.\n",
    "Rekomenduojama naudoti `if ... elif ... else` logika operaciju patikrinimui."
   ]
  },
  {
   "cell_type": "code",
   "execution_count": 9,
   "metadata": {},
   "outputs": [
    {
     "name": "stdout",
     "output_type": "stream",
     "text": [
      "---paskaiciuokime!---\n",
      " ka darysime toliau, isgaunam rezultata?\n",
      "rezultatas 13.0\n"
     ]
    }
   ],
   "source": [
    "print('---paskaiciuokime!---')\n",
    "numeris1 = float(input('iveskyte prasom pirma skaiciu'))\n",
    "numeris2 = float(input('iveskyte prasom antra skaiciu'))\n",
    "print(' ka darysime toliau, isgaunam rezultata?')\n",
    "sprendimas = input('sprendimas: +,-,*,/: ')\n",
    "if sprendimas == '+':\n",
    "    print('rezultatas',numeris1 + numeris2)\n",
    "elif sprendimas == '*':\n",
    "    print('rezultatas',numeris1 * numeris2)\n",
    "elif sprendimas == '/':\n",
    "    print('rezultatas', numeris1 / numeris2)\n",
    "elif sprendimas == '-':\n",
    "    print('rezultatas', numeris1 - numeris2)\n",
    "else:\n",
    "    print('nera sprendimo')\n"
   ]
  },
  {
   "cell_type": "markdown",
   "metadata": {},
   "source": [
    "## Užduotis 2\n",
    "\n",
    "Galite bandyti įvykdyti aukščiau pateiktą užduotį naudodami vieną įvestį ir perduoti ją funkcijai eval() ir išspausdinti rezultatą.\n",
    "Tačiau tokia programa nebūtų saugi, nes vartotojas galėtų vykdyti nepageidaujamą Python kodą, o ne tik paprastą matematikos operaciją.\n",
    "Paeksperimentuokite."
   ]
  },
  {
   "cell_type": "markdown",
   "metadata": {},
   "source": [
    "## Užduotis 3\n",
    "\n",
    "Parašykite programa, kuri surenka vartotojo ivestį ir iš jos išveda rezultatą. Būkite kūrybingi!"
   ]
  },
  {
   "cell_type": "code",
   "execution_count": 25,
   "metadata": {},
   "outputs": [
    {
     "name": "stdout",
     "output_type": "stream",
     "text": [
      "---registracija---\n",
      "duomenys ivesti:\n",
      " vardas------ Jony \n",
      "amzius------- 36 \n",
      "uzsiemimas--- muzika\n",
      "jusu registracija baigta\n"
     ]
    }
   ],
   "source": [
    "print(\"---registracija---\")\n",
    "zingsnis1 = input('iveskyte prasom savo varda')\n",
    "zingsnis2 = input('iveskyte prasom savo amziu')\n",
    "zingsnis3 = input('jusu megstamas laisvalaikio uzsiemimas')\n",
    "print('duomenys ivesti:\\n','vardas------', zingsnis1, '\\n'  'amzius-------', zingsnis2, '\\n'  'uzsiemimas---', zingsnis3)\n",
    "slaptazodis = int(input('iveskyte sukurta slaptazodi, slaptozodis turi buti skaiciai'))\n",
    "if slaptazodis / 2 >= 1 :\n",
    "    print('jusu registracija baigta')\n",
    "elif slaptazodis != 0:\n",
    "    print('neteisingas slaptazodis')\n",
    "else:\n",
    "    print('registracija nepavyko')\n",
    "\n",
    "    \n"
   ]
  },
  {
   "cell_type": "code",
   "execution_count": null,
   "metadata": {},
   "outputs": [],
   "source": []
  }
 ],
 "metadata": {
  "kernelspec": {
   "display_name": "venv",
   "language": "python",
   "name": "python3"
  },
  "language_info": {
   "codemirror_mode": {
    "name": "ipython",
    "version": 3
   },
   "file_extension": ".py",
   "mimetype": "text/x-python",
   "name": "python",
   "nbconvert_exporter": "python",
   "pygments_lexer": "ipython3",
   "version": "3.12.1"
  },
  "orig_nbformat": 4
 },
 "nbformat": 4,
 "nbformat_minor": 2
}
