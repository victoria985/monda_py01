{
 "cells": [
  {
   "cell_type": "markdown",
   "metadata": {},
   "source": [
    "# Tekstinė eilutė Python kalboje\n",
    "\n",
    "Tekstinės eilutės arba simboliu eilutės (String), yra vienos iš lankstesnių ir dažniausiai naudojamų duomenų tipų programavime naudojant Python kalbą. Naudingos atvaizduoti ir manipuliuoti betkokiu tekstu"
   ]
  },
  {
   "cell_type": "markdown",
   "metadata": {},
   "source": [
    "## Eilutė kaip duomenų tipas"
   ]
  },
  {
   "cell_type": "markdown",
   "metadata": {},
   "source": [
    "Python kalboje eilutė yra simbolių seka. Eilutės gali būti sukurtos, įtraukiant simbolius į viengubas kabutes (') arba dvigubas kabutes (\").\n",
    "\n",
    "**Pavizdys**:"
   ]
  },
  {
   "cell_type": "code",
   "execution_count": 1,
   "metadata": {},
   "outputs": [
    {
     "name": "stdout",
     "output_type": "stream",
     "text": [
      "Sveikas, Pasauli! Python Programavimas\n"
     ]
    }
   ],
   "source": [
    "sveikas_pasauli = 'Sveikas, Pasauli!'\n",
    "kurso_pavadinimas = \"Python Programavimas\"\n",
    "print(sveikas_pasauli, kurso_pavadinimas)"
   ]
  },
  {
   "cell_type": "markdown",
   "metadata": {},
   "source": [
    "### Greita užduotis 1\n",
    "Sukurkite eilutės kintamajį \"Aš mokausi Programuoti su Python!\" ir atspausdinkite ji.\n"
   ]
  },
  {
   "cell_type": "code",
   "execution_count": 2,
   "metadata": {},
   "outputs": [
    {
     "name": "stdout",
     "output_type": "stream",
     "text": [
      "as mokausi programuoti su python\n"
     ]
    }
   ],
   "source": [
    "rezultatas = \"as mokausi programuoti su python\"\n",
    "print(rezultatas)"
   ]
  },
  {
   "cell_type": "code",
   "execution_count": 4,
   "metadata": {},
   "outputs": [
    {
     "name": "stdout",
     "output_type": "stream",
     "text": [
      "as mokausi programuoti Python programavimo kalba\n"
     ]
    }
   ],
   "source": [
    "rezultatas1 = \"as mokausi programuoti\"\n",
    "rezultatas2 = \"Python programavimo kalba\"\n",
    "print(rezultatas1, rezultatas2)"
   ]
  },
  {
   "cell_type": "markdown",
   "metadata": {},
   "source": [
    "---\n",
    "\n",
    "## 2. Simbolių išgavimas iš eilučių"
   ]
  },
  {
   "cell_type": "markdown",
   "metadata": {},
   "source": [
    "Kiekvienas simbolis eilutėje turi poziciją arba indeksą, prasidedant nuo 0. Simboliai gali būti išgauti nurodant jų indeksą laužtinėse skliausteliuose `[]`. Neigiamas indeksas reiškia, kad skaičiuojama atgal nuo galo.\n",
    "\n",
    "**Pavizdys**:"
   ]
  },
  {
   "cell_type": "code",
   "execution_count": 2,
   "metadata": {},
   "outputs": [
    {
     "name": "stdout",
     "output_type": "stream",
     "text": [
      "P\n",
      "n\n"
     ]
    }
   ],
   "source": [
    "tekstas = \"Python\"\n",
    "print(tekstas[0])  # P\n",
    "print(tekstas[-1]) # n"
   ]
  },
  {
   "cell_type": "markdown",
   "metadata": {},
   "source": [
    "### Greita užduotis 2\n",
    "Ištraukite ir atspausdinkite trečiąjį simbolį iš teksto \"`Programavimas`\"."
   ]
  },
  {
   "cell_type": "code",
   "execution_count": 7,
   "metadata": {},
   "outputs": [
    {
     "name": "stdout",
     "output_type": "stream",
     "text": [
      "g\n"
     ]
    }
   ],
   "source": [
    "zodis = \"programavimas\"\n",
    "print(zodis[3])"
   ]
  },
  {
   "cell_type": "code",
   "execution_count": 10,
   "metadata": {},
   "outputs": [
    {
     "name": "stdout",
     "output_type": "stream",
     "text": [
      "e\n"
     ]
    }
   ],
   "source": [
    "rezultatas = \"smile\"\n",
    "print(rezultatas[-1])"
   ]
  },
  {
   "cell_type": "markdown",
   "metadata": {},
   "source": [
    "--- \n",
    "\n",
    "## Eilučių pjovimas"
   ]
  },
  {
   "cell_type": "markdown",
   "metadata": {},
   "source": [
    "Jūs galite išgauti dalį eilutės, naudodami pjovimą (\"slicing\"). Vietoje tikslios indekso reikšmės laužtiniuose skliausteliuose [], jūs tiesiog nurodote intervalo indeksų reikšmes, atskirtas dvitaškiu `:`.\n",
    "\n",
    "**Pavizdys**:"
   ]
  },
  {
   "cell_type": "code",
   "execution_count": 3,
   "metadata": {},
   "outputs": [
    {
     "name": "stdout",
     "output_type": "stream",
     "text": [
      "Pragramavimas\n"
     ]
    }
   ],
   "source": [
    "tekstas = \"Python Programavimas\"\n",
    "print(tekstas[7:20]) # Programavimas"
   ]
  },
  {
   "cell_type": "markdown",
   "metadata": {},
   "source": []
  },
  {
   "cell_type": "markdown",
   "metadata": {},
   "source": [
    "### Greita užduotis 3\n",
    "Išpjaukite iš žodžio \"Pythonista\" tekstinę eilutę \"onist\"."
   ]
  },
  {
   "cell_type": "code",
   "execution_count": 14,
   "metadata": {},
   "outputs": [
    {
     "name": "stdout",
     "output_type": "stream",
     "text": [
      "onist\n"
     ]
    }
   ],
   "source": [
    "zodis = \"Pythonista\"\n",
    "print(zodis[4:9])"
   ]
  },
  {
   "cell_type": "code",
   "execution_count": 1,
   "metadata": {},
   "outputs": [
    {
     "name": "stdout",
     "output_type": "stream",
     "text": [
      "wolf\n",
      "wild \n"
     ]
    }
   ],
   "source": [
    "zodis = \"wild wolf\"\n",
    "print(zodis[5:9])\n",
    "print(zodis[0:5])"
   ]
  },
  {
   "cell_type": "markdown",
   "metadata": {},
   "source": [
    "---\n",
    "\n",
    "## Eilutės ilgis"
   ]
  },
  {
   "cell_type": "markdown",
   "metadata": {},
   "source": [
    "Jei norite sužinoti eilutės ilgį, galite naudoti `len()` funkciją, perduodami eilutę kaip argumentą."
   ]
  },
  {
   "cell_type": "code",
   "execution_count": 4,
   "metadata": {},
   "outputs": [
    {
     "name": "stdout",
     "output_type": "stream",
     "text": [
      "6\n"
     ]
    }
   ],
   "source": [
    "tekstas = \"Python\"\n",
    "print(len(tekstas))"
   ]
  },
  {
   "cell_type": "markdown",
   "metadata": {},
   "source": [
    "### Greita užduotis 4\n",
    "\n",
    "Raskite ir `atspausdinkite` eilutės ilgį \"Jupyter Notebook\"."
   ]
  },
  {
   "cell_type": "code",
   "execution_count": 18,
   "metadata": {},
   "outputs": [
    {
     "name": "stdout",
     "output_type": "stream",
     "text": [
      "16\n"
     ]
    }
   ],
   "source": [
    "rezultatas = \"Jupyter Notebook\"\n",
    "print(len(rezultatas))"
   ]
  },
  {
   "cell_type": "code",
   "execution_count": 19,
   "metadata": {},
   "outputs": [
    {
     "name": "stdout",
     "output_type": "stream",
     "text": [
      "13\n"
     ]
    }
   ],
   "source": [
    "eilute = \"sauleta diena\"\n",
    "print(len(eilute))"
   ]
  },
  {
   "cell_type": "markdown",
   "metadata": {},
   "source": [
    "### Greita užduotis 5\n",
    "\n",
    "Raskite ir `atspausdinkite` ilgiausio vokiečių žodžio ilgį \"Kraftfahrzeughaftpflichtversicherung\"."
   ]
  },
  {
   "cell_type": "code",
   "execution_count": 20,
   "metadata": {},
   "outputs": [
    {
     "name": "stdout",
     "output_type": "stream",
     "text": [
      "36\n"
     ]
    }
   ],
   "source": [
    "ilgis = \"Kraftfahrzeughaftpflichtversicherung\"\n",
    "print(len(ilgis))\n"
   ]
  },
  {
   "cell_type": "markdown",
   "metadata": {},
   "source": [
    "---\n",
    "\n",
    "## Specialūs simboliai, Nauja eilutė, `Unicode` koduotės symboliai\n"
   ]
  },
  {
   "cell_type": "markdown",
   "metadata": {},
   "source": [
    "Specialūs simboliai eilutėse leidžia mums įtraukti simbolius, kurie negali būti lengvai įvesti arba turi specialių reikšmių eilutėse. Jie dažnai naudojami su atvirkštiniu (`\\`) brūkšniu.\n",
    "\n",
    "### Nauja Eilutė: `\\n`\n",
    "\n",
    "`\\n` Simbolis reiškia naują eilutę"
   ]
  },
  {
   "cell_type": "code",
   "execution_count": 5,
   "metadata": {},
   "outputs": [
    {
     "name": "stdout",
     "output_type": "stream",
     "text": [
      "Sveikas\n",
      "Pasauli!\n"
     ]
    }
   ],
   "source": [
    "print(\"Sveikas\\nPasauli!\")"
   ]
  },
  {
   "cell_type": "code",
   "execution_count": 21,
   "metadata": {},
   "outputs": [
    {
     "name": "stdout",
     "output_type": "stream",
     "text": [
      "Sauleta\n",
      "diena!\n"
     ]
    }
   ],
   "source": [
    "print(\"Sauleta\\ndiena!\")"
   ]
  },
  {
   "cell_type": "code",
   "execution_count": 22,
   "metadata": {},
   "outputs": [
    {
     "name": "stdout",
     "output_type": "stream",
     "text": [
      "grazus\n",
      "oras\n"
     ]
    }
   ],
   "source": [
    "print(\"grazus\\noras\")"
   ]
  },
  {
   "cell_type": "code",
   "execution_count": 23,
   "metadata": {},
   "outputs": [
    {
     "name": "stdout",
     "output_type": "stream",
     "text": [
      "greitas\n",
      "tempas\n"
     ]
    }
   ],
   "source": [
    "print(\"greitas\\ntempas\")"
   ]
  },
  {
   "cell_type": "markdown",
   "metadata": {},
   "source": [
    "### Tab: `\\t`\n",
    "\n",
    "Simbolis `\\t` reiškia tabuliavimo tarpą, kuris paprastai yra platesnis nei įprastas tarpas. Tai kaip atstumas tarp žodžių, bet daugiau vietos užima."
   ]
  },
  {
   "cell_type": "code",
   "execution_count": 6,
   "metadata": {},
   "outputs": [
    {
     "name": "stdout",
     "output_type": "stream",
     "text": [
      "Sveikas\tPasauli!\n"
     ]
    }
   ],
   "source": [
    "print(\"Sveikas\\tPasauli!\")"
   ]
  },
  {
   "cell_type": "code",
   "execution_count": 24,
   "metadata": {},
   "outputs": [
    {
     "name": "stdout",
     "output_type": "stream",
     "text": [
      "25\tage\n",
      "25\tday\n",
      "25\tsteps\n"
     ]
    }
   ],
   "source": [
    "print(\"25\\tage\")\n",
    "print(\"25\\tday\")\n",
    "print(\"25\\tsteps\")"
   ]
  },
  {
   "cell_type": "markdown",
   "metadata": {},
   "source": [
    "### `Unicode` koduotės symboliai\n",
    "\n",
    "Unicode simboliai yra kaip specialūs ženklai, kurie leidžia atvaizduoti daugybę skirtingų simbolių, nuo kalbų raštų iki smailių. Norint juos naudoti, reikia naudoti `\\u` priešdėlį ir po jo įvesti tam tikrą skaičių kodą"
   ]
  },
  {
   "cell_type": "code",
   "execution_count": 7,
   "metadata": {},
   "outputs": [
    {
     "name": "stdout",
     "output_type": "stream",
     "text": [
      "Π\n",
      "😄\n",
      "👍\n"
     ]
    }
   ],
   "source": [
    "# Graikiška raidė Pi\n",
    "print(\"\\u03A0\")\n",
    "\n",
    "# Šypsena emoji\n",
    "print(\"\\U0001F604\")\n",
    "\n",
    "# Patvirtinimo nykštukas emoji\n",
    "print(\"\\U0001F44D\")"
   ]
  },
  {
   "cell_type": "code",
   "execution_count": 3,
   "metadata": {},
   "outputs": [
    {
     "name": "stdout",
     "output_type": "stream",
     "text": [
      "💔\n",
      "🫶\n",
      "💓\n"
     ]
    }
   ],
   "source": [
    "print(\"\\U0001F494\")\n",
    "\n",
    "print(\"\\U0001FAF6\")\n",
    "\n",
    "print(\"\\U0001F493\")"
   ]
  },
  {
   "cell_type": "markdown",
   "metadata": {},
   "source": [
    "Šiuos simbolius galite peržiūrėti svetainėje [symbl.cc](https://symbl.cc/)"
   ]
  },
  {
   "cell_type": "markdown",
   "metadata": {},
   "source": [
    "### Atgaliniai brūkšniai ir kabutės\n",
    "\n",
    "Norėdami įtraukti atgalinį brūkšnį į eilutę, galite naudoti `\\\\`, o norėdami įtraukti kabutes į eilutę, kuri yra apsupta tų pačių tipų kabutėmis, naudojate atgalinį brūkšnį prieš kabutę."
   ]
  },
  {
   "cell_type": "code",
   "execution_count": 8,
   "metadata": {},
   "outputs": [
    {
     "name": "stdout",
     "output_type": "stream",
     "text": [
      "Tai yra atgalinis brūkšnys: \\\n",
      "Tai saulėta diena!\n"
     ]
    }
   ],
   "source": [
    "print(\"Tai yra atgalinis brūkšnys: \\\\\")\n",
    "print('Tai saulėta diena')"
   ]
  },
  {
   "cell_type": "markdown",
   "metadata": {},
   "source": [
    "### Greita užduotis 6\n",
    "\n",
    "Atspausdinkite eilutę, kurioje būtų panaudotas tabuliavimo simbolis atskirti jūsų vardą ir pavardę"
   ]
  },
  {
   "cell_type": "code",
   "execution_count": 7,
   "metadata": {},
   "outputs": [
    {
     "name": "stdout",
     "output_type": "stream",
     "text": [
      "Viktorija\tSot-Peckovska\n"
     ]
    }
   ],
   "source": [
    "print(\"Viktorija\\tSot-Peckovska\")"
   ]
  },
  {
   "cell_type": "markdown",
   "metadata": {},
   "source": [
    "### Greita užduotis 7\n",
    "\n",
    "Atspausdinkite `širdies` `❤️` emoji naudodami jo Unicode atvaizdavimą."
   ]
  },
  {
   "cell_type": "code",
   "execution_count": 52,
   "metadata": {},
   "outputs": [
    {
     "name": "stdout",
     "output_type": "stream",
     "text": [
      "💗\n",
      "💔\n"
     ]
    }
   ],
   "source": [
    "print(\"\\U0001F497\")\n",
    "\n",
    "print(\"\\U0001F494\")"
   ]
  },
  {
   "cell_type": "markdown",
   "metadata": {},
   "source": [
    "### Greita užduotis 8\n",
    "\n",
    "Sukurkite eilutę, kurioje rašoma: `Ji pasakė, \"Python yra nuostabi kalba!\"` užtikrinant, kad vidinės kabutės būtų įtrauktos."
   ]
  },
  {
   "cell_type": "code",
   "execution_count": 38,
   "metadata": {},
   "outputs": [
    {
     "name": "stdout",
     "output_type": "stream",
     "text": [
      "Ji pasake kad \\Python nuostabi kalba\\\n"
     ]
    }
   ],
   "source": [
    "print(\"Ji pasake kad \\\\Python nuostabi kalba\\\\\")"
   ]
  },
  {
   "cell_type": "markdown",
   "metadata": {},
   "source": [
    "---\n",
    "\n",
    "## Eilučių metodai"
   ]
  },
  {
   "cell_type": "markdown",
   "metadata": {},
   "source": [
    "Python kalboje eilutės turi daugybę įgimtų metodų, skirtų manipuliuoti ir tyrinti juose esančią informaciją. Čia aptarsime kai kuriuos dažniausiai naudojamus metodus."
   ]
  },
  {
   "cell_type": "markdown",
   "metadata": {},
   "source": [
    "### `upper()` ir `lower()`\n",
    "\n",
    "Šie metodai grąžina kopiją originalios eilutės, paverstos didžiosiomis arba mažosiomis raidėmis, atitinkamai."
   ]
  },
  {
   "cell_type": "code",
   "execution_count": 9,
   "metadata": {},
   "outputs": [
    {
     "name": "stdout",
     "output_type": "stream",
     "text": [
      "LABAS\n",
      "labas\n"
     ]
    }
   ],
   "source": [
    "tekstas = \"labas\"\n",
    "print(tekstas.upper())\n",
    "print(tekstas.lower())"
   ]
  },
  {
   "cell_type": "markdown",
   "metadata": {},
   "source": [
    "### `capitalize()` ir `title()`\n",
    "\n",
    "Šie metodai grąžina kopiją originalios eilutės, kur `capitalize` padaro pirmąją eilutės raidę didžiąja raide, o `title` padaro pirmąją kiekvieno žodžio raidę didžiąja raide. Likusios raidės tampa mažosiomis, net jei jos buvo didžiosios."
   ]
  },
  {
   "cell_type": "code",
   "execution_count": 10,
   "metadata": {},
   "outputs": [
    {
     "name": "stdout",
     "output_type": "stream",
     "text": [
      "Pasaulis yra gražus.\n",
      "grožis turi būti atrastas.\n",
      "didžiausias iššūkis yra pirmas žingsnis.\n",
      "\n",
      "Pasaulis Yra Gražus.\n",
      "Grožis Turi Būti Atrastas.\n",
      "Didžiausias Iššūkis Yra Pirmas Žingsnis.\n",
      "\n"
     ]
    }
   ],
   "source": [
    "tekstas = \"\"\"pasaulis yra gražus.\n",
    "grožis turi būti atrastas.\n",
    "didžiausias iššūkis yra PIRMAS žingsnis.\n",
    "\"\"\"\n",
    "print(tekstas.capitalize())\n",
    "print(tekstas.title())"
   ]
  },
  {
   "cell_type": "markdown",
   "metadata": {},
   "source": [
    "### Greita užduotis 9\n",
    "\n",
    "Paverčiame eilutę \"Python Rocks!\" didžiosiomis ir tada mažosiomis raidėmis, tada spausdiname rezultatus."
   ]
  },
  {
   "cell_type": "code",
   "execution_count": 44,
   "metadata": {},
   "outputs": [
    {
     "name": "stdout",
     "output_type": "stream",
     "text": [
      "Eilės, eilės, eilės, eilės\n",
      "kiek jų daug ir įvairių.\n",
      "sutelpa kančia ir meilė,\n",
      "tarp juokingų ir jautrių.\n",
      "\n",
      "Eilės, Eilės, Eilės, Eilės\n",
      "Kiek Jų Daug Ir Įvairių.\n",
      "Sutelpa Kančia Ir Meilė,\n",
      "Tarp Juokingų Ir Jautrių.\n",
      "\n"
     ]
    }
   ],
   "source": [
    "tekstas = \"\"\"eilės, eilės, eilės, eilės\n",
    "kiek jų daug ir įvairių.\n",
    "Sutelpa kančia ir meilė,\n",
    "tarp juokingų ir jautrių.\n",
    "\"\"\"\n",
    "print(tekstas.capitalize())\n",
    "print(tekstas.title())"
   ]
  },
  {
   "cell_type": "markdown",
   "metadata": {},
   "source": [
    "### Greita užduotis 10\n",
    "\n",
    "Pataisykite eilutę `the UNIVERSE is a SIMULATION` kad ji taptų įprasta sakinio forma, tada tinkama pavadinimo forma, ir atspausdinkite rezultatus.\n",
    "\n",
    "Pirmiausiai pakeiskite eilutės didžiąsias raides mažosiomis: `the universe is a simulation`.\n",
    "Tada pakeiskite šios eilutės pirmąsias raides didžiosiomis: `The Universe Is A Simulation`.\n",
    "\n",
    "Galiausiai, atspausdinkite gautus rezultatus."
   ]
  },
  {
   "cell_type": "code",
   "execution_count": 51,
   "metadata": {},
   "outputs": [
    {
     "name": "stdout",
     "output_type": "stream",
     "text": [
      "the universe is a simulation\n",
      "The Universe, Is A Simulation\n",
      "The universe, is a simulation\n",
      "THE UNIVERSE, IS A SIMULATION\n"
     ]
    }
   ],
   "source": [
    "rezultatas = \"the UNIVERSE is a SIMULATION\"\n",
    "print(rezultatas.lower())\n",
    "\n",
    "rezultatas = \"the universe, is a simulation\"\n",
    "print(rezultatas.title())\n",
    "\n",
    "rezultatas = \"the universe, is a simulation\"\n",
    "print(rezultatas.capitalize())\n",
    "\n",
    "rezultatas = \"the universe, is a simulation\"\n",
    "print(rezultatas.upper())"
   ]
  },
  {
   "cell_type": "markdown",
   "metadata": {},
   "source": [
    "### `startswith()` ir `endswith()`\n",
    "\n",
    "Šie metodai tikrina, ar eilutė prasideda ar baigiasi tam tikra poeilute \"substring\", ir tada grąžina atsakymą (boolean) `True` arba `False`, t.y. ar teisinga arba klaidinga."
   ]
  },
  {
   "cell_type": "code",
   "execution_count": 11,
   "metadata": {},
   "outputs": [
    {
     "name": "stdout",
     "output_type": "stream",
     "text": [
      "True\n",
      "True\n",
      "False\n"
     ]
    }
   ],
   "source": [
    "sakinys = \"Python yra smagu.\"\n",
    "print(sakinys.startswith(\"Python\"))  # True\n",
    "print(sakinys.endswith(\"gu.\"))       # True\n",
    "print(sakinys.endswith(\"nuobodu.\"))   # False"
   ]
  },
  {
   "cell_type": "markdown",
   "metadata": {},
   "source": [
    "### Greita užduotis 11\n",
    "\n",
    "Patikrinkite, ar eilutė \"Hello world!\" prasideda su \"Hi\" ir baigiasi simboliu \"!\"."
   ]
  },
  {
   "cell_type": "code",
   "execution_count": 55,
   "metadata": {},
   "outputs": [
    {
     "name": "stdout",
     "output_type": "stream",
     "text": [
      "False\n",
      "True\n",
      "True\n"
     ]
    }
   ],
   "source": [
    "sakinys = \"Hello world!\"\n",
    "print(sakinys.startswith(\"Hi\")) #false\n",
    "print(sakinys.endswith(\"!\")) #true\n",
    "print(sakinys.startswith(\"Hello\"))  #true\n"
   ]
  },
  {
   "cell_type": "markdown",
   "metadata": {},
   "source": [
    "### `find()` ir `rfind()`\n",
    "\n",
    "`find()` grąžina pirmos pasikartojančios poeilutės \"substring\" indeksą, jei \"substring\" nerastas, tai grąžina -1.\n",
    "\n",
    " `rfind()` pradeda paiešką nuo eilutės pabaigos"
   ]
  },
  {
   "cell_type": "code",
   "execution_count": 12,
   "metadata": {},
   "outputs": [
    {
     "name": "stdout",
     "output_type": "stream",
     "text": [
      "7\n",
      "15\n"
     ]
    }
   ],
   "source": [
    "zinute = \"I love Python. Python is fun.\"\n",
    "print(zinute.find(\"Python\"))  # 7\n",
    "print(zinute.rfind(\"Python\")) # 18"
   ]
  },
  {
   "cell_type": "markdown",
   "metadata": {},
   "source": [
    "### Greita užduotis 12\n",
    "\n",
    "Raskite pirmą ir paskutinį žodžio `\"data\"` pasireiškimą eilutėje `\"Data is the new oil. Big data is a Big Deal.\"`. Tada bandykite atlikti šį paieškos veiksmą, nekreipiant dėmesio į didžiąsias ar mažąsias raides - bandykite aptikti ir `\"Data\" ir \"data\"`."
   ]
  },
  {
   "cell_type": "code",
   "execution_count": 60,
   "metadata": {},
   "outputs": [
    {
     "name": "stdout",
     "output_type": "stream",
     "text": [
      "0\n",
      "25\n"
     ]
    }
   ],
   "source": [
    "sakinys = \"Data is the new oil. Big data is a Big Deal\"\n",
    "print(sakinys.find(\"Data\"))\n",
    "print(sakinys.rfind(\"data\"))"
   ]
  },
  {
   "cell_type": "code",
   "execution_count": 59,
   "metadata": {},
   "outputs": [
    {
     "name": "stdout",
     "output_type": "stream",
     "text": [
      "21\n",
      "35\n"
     ]
    }
   ],
   "source": [
    "sakinys = \"Data is the new oil. Big data is a Big Deal\"\n",
    "print(sakinys.find(\"Big\"))\n",
    "print(sakinys.rfind(\"Big\"))"
   ]
  },
  {
   "cell_type": "markdown",
   "metadata": {},
   "source": [
    "### `replace()`\n",
    "\n",
    "Šis metodas pakeičia visus tam tikros poeilutės \"substring\" atvejus kitu."
   ]
  },
  {
   "cell_type": "code",
   "execution_count": 13,
   "metadata": {},
   "outputs": [
    {
     "name": "stdout",
     "output_type": "stream",
     "text": [
      "Python is nice.\n"
     ]
    }
   ],
   "source": [
    "tekstas = \"Java is nice.\"\n",
    "naujas_textas = tekstas.replace(\"Java\", \"Python\")\n",
    "print(naujas_textas)"
   ]
  },
  {
   "cell_type": "markdown",
   "metadata": {},
   "source": [
    "### Greita užduotis 13\n",
    "\n",
    "Pakeiskite atvejus, eilutėje  `\"A bad example sets a bad precedent.\"` pakeiskite žodi iš `bad, į good`."
   ]
  },
  {
   "cell_type": "code",
   "execution_count": 63,
   "metadata": {},
   "outputs": [
    {
     "name": "stdout",
     "output_type": "stream",
     "text": [
      "A good example sets a good precedent.\n"
     ]
    }
   ],
   "source": [
    "text = \"A bad example sets a bad precedent.\"\n",
    "new_text = text.replace(\"bad\", \"good\")\n",
    "print(new_text)"
   ]
  },
  {
   "cell_type": "markdown",
   "metadata": {},
   "source": [
    "### `strip()`, `rstrip()`, ir `lstrip()`\n",
    "\n",
    "Šie metodai grąžina eilutės kopiją, iš kurios pašalina tarpus (whitespace)\n",
    "\n",
    "`strip()`: Šis metodas pašalina visus tarpus (whitespace) iš eilutės pradžios ir pabaigos\n",
    "\n",
    "`rstrip()`: Šis metodas pašalina visus tarpus (whitespace) tik iš eilutės galo (dešinės pusės)\n",
    "\n",
    "`lstrip()`: Šis metodas pašalina visus tarpus (whitespace) tik iš eilutės pradžios (kairės pusės)"
   ]
  },
  {
   "cell_type": "code",
   "execution_count": 14,
   "metadata": {},
   "outputs": [
    {
     "name": "stdout",
     "output_type": "stream",
     "text": [
      "| whitespaced all around    |\n",
      "|    whitespaced all around |\n",
      "| whitespaced all around |\n"
     ]
    }
   ],
   "source": [
    "strip_tekstas = \"   whitespaced all around   \"\n",
    "print('|', strip_tekstas.lstrip(), '|')\n",
    "print('|', strip_tekstas.rstrip(), '|')\n",
    "print('|', strip_tekstas.strip(), '|')"
   ]
  },
  {
   "cell_type": "markdown",
   "metadata": {},
   "source": [
    "### Greita užduotis 14\n",
    "\n",
    "Pašalinkite papildomus tarpus iš eilutės \"    Too much space!    \" naudodami `strip()` metodą."
   ]
  },
  {
   "cell_type": "code",
   "execution_count": 65,
   "metadata": {},
   "outputs": [
    {
     "name": "stdout",
     "output_type": "stream",
     "text": [
      "| Too much space! |\n",
      "|      Too much space! |\n",
      "| Too much space!      |\n"
     ]
    }
   ],
   "source": [
    "tekstas =\"     Too much space!     \"\n",
    "print(\"|\",tekstas.strip(), \"|\") \n",
    "print(\"|\",tekstas.rstrip(),\"|\")\n",
    "print(\"|\",tekstas.lstrip(),\"|\")"
   ]
  },
  {
   "cell_type": "code",
   "execution_count": 66,
   "metadata": {},
   "outputs": [
    {
     "name": "stdout",
     "output_type": "stream",
     "text": [
      "* Miskas pilnas grybu *\n"
     ]
    }
   ],
   "source": [
    "sakinys = \"    Miskas pilnas grybu    \"\n",
    "print(\"*\", sakinys.strip(), \"*\")\n"
   ]
  },
  {
   "cell_type": "markdown",
   "metadata": {},
   "source": [
    "---\n",
    "\n",
    "## Eilučių Formatavimas"
   ]
  },
  {
   "cell_type": "markdown",
   "metadata": {},
   "source": [
    "Python programavimo kalboje yra keletas būdų formatuoti tekstines eilutes. Eilučių formatavimas yra labai patogus būdas struktūruoti eilutes naudojant vartotojo sąsajai, rezultatų išvedimui ar tiesiog įvykių žurnalo užrašams (logavimui). Tai yra būdas įterpti duomenis į tekstines eilutes. Python programavimo kalboje yra keli metodai, leidžiantys jums kontroliuoti kintamųjų pateikimą jūsų išvestyje. Pažiūrėkime į šiuos metodus."
   ]
  },
  {
   "cell_type": "markdown",
   "metadata": {},
   "source": [
    "### F-strings (tiesiogiai formatuotos eilutės):\n",
    "\n",
    "F-strings yra priemonė Python programavimo kalboje, kuri leidžia lengvai įterpti išraiškas į tekstą, kad būtų galima dinamiškai generuoti tekstines eilutes. Ši funkcija buvo pridėta nuo Python 3.6 versijos ir yra naudinga rašant aiškesnį ir trumpesnį kodą."
   ]
  },
  {
   "cell_type": "code",
   "execution_count": 19,
   "metadata": {},
   "outputs": [
    {
     "name": "stdout",
     "output_type": "stream",
     "text": [
      "Mano vardas yra Alisa ir man yra 30 metų.\n"
     ]
    }
   ],
   "source": [
    "vardas = \"Alisa\"\n",
    "amzius = 30\n",
    "formatuota_eilute = f\"Mano vardas yra {vardas} ir man yra {amzius} metų.\"\n",
    "print(formatuota_eilute)"
   ]
  },
  {
   "cell_type": "markdown",
   "metadata": {},
   "source": [
    "### Greita užduotis 15\n",
    "\n",
    "Sukurkite sutarties eilutę į f eilutę(f-string), nurodydami dalyką(subject) ir šalis(parties) kaip aukščiau apibrėžtus kintamuosius.\n"
   ]
  },
  {
   "cell_type": "code",
   "execution_count": 68,
   "metadata": {},
   "outputs": [
    {
     "name": "stdout",
     "output_type": "stream",
     "text": [
      "Musu kieme auga senas Azuolas, jam jau 105 metu.\n"
     ]
    }
   ],
   "source": [
    "medis = \"Azuolas\"\n",
    "amzius = 105\n",
    "formatuota_eilute = f\"Musu kieme auga senas {medis}, jam jau {amzius} metu.\"\n",
    "print(formatuota_eilute)"
   ]
  },
  {
   "cell_type": "code",
   "execution_count": 69,
   "metadata": {},
   "outputs": [
    {
     "name": "stdout",
     "output_type": "stream",
     "text": [
      "Pas mus gyvena suo Lucky, jo veisle jorkas.\n"
     ]
    }
   ],
   "source": [
    "suo = \"Lucky\"\n",
    "veisle = \"jorkas\"\n",
    "formatuotas_sakinys = f\"Pas mus gyvena suo {suo}, jo veisle {veisle}.\"\n",
    "print(formatuotas_sakinys)"
   ]
  },
  {
   "cell_type": "markdown",
   "metadata": {},
   "source": [
    "### .format() metodas:\n",
    "\n",
    "Prieš naudojant f eilutes, metodas „str.format()“ buvo pagrindinis būdas formatuoti eilutes „Python“.\n"
   ]
  },
  {
   "cell_type": "code",
   "execution_count": 20,
   "metadata": {},
   "outputs": [
    {
     "name": "stdout",
     "output_type": "stream",
     "text": [
      "Mano vardas yra Alisa ir man yra 30 metų.\n"
     ]
    }
   ],
   "source": [
    "formatuota_eilute = \"Mano vardas yra {} ir man yra {} metu.\".format(vardas, amzius)\n",
    "print(formatuota_eilute)"
   ]
  },
  {
   "cell_type": "markdown",
   "metadata": {},
   "source": [
    "Norėdami nurodyti tvarką, taip pat galite naudoti pozicijos ir raktinio žodžio argumentus."
   ]
  },
  {
   "cell_type": "code",
   "execution_count": 21,
   "metadata": {},
   "outputs": [
    {
     "name": "stdout",
     "output_type": "stream",
     "text": [
      "Man yra 30 metu. Mano vardas yra Alisa.\n"
     ]
    }
   ],
   "source": [
    "formatuota_eilute = \"Man yra {1} metu. Mano vardas yra {0}.\".format(vardas, amzius)\n",
    "print(formatuota_eilute)"
   ]
  },
  {
   "cell_type": "markdown",
   "metadata": {},
   "source": [
    "### Greita užduotis 16\n",
    "Atlikite 15-ą greitą užduotį naudodami `.format()`."
   ]
  },
  {
   "cell_type": "code",
   "execution_count": 72,
   "metadata": {},
   "outputs": [
    {
     "name": "stdout",
     "output_type": "stream",
     "text": [
      "Pas mus gyvena Lucky, jo veisle jorkas.\n",
      "Pas mus gyvena suo, jo veisle jorkas, o vardas Lucky.\n"
     ]
    }
   ],
   "source": [
    "formatuotas_sakinys = \"Pas mus gyvena {}, jo veisle {}.\".format(suo, veisle)\n",
    "print(formatuotas_sakinys)\n",
    "\n",
    "formatuotas_sakinys = \"Pas mus gyvena suo, jo veisle {1}, o vardas {0}.\".format(suo, veisle)\n",
    "print(formatuotas_sakinys)"
   ]
  },
  {
   "cell_type": "markdown",
   "metadata": {},
   "source": [
    "### %-formatting:\n",
    "\n",
    "Tai vienas iš seniausių eilučių formatavimo metodų, pasiskolintas iš C kalbos. Atminkite, kad turite apibrėžti kintamojo tipą. `%s` reiškia eilutę, `%d` yra sveikasis skaičius, o `%f` yra slankusis skaičius."
   ]
  },
  {
   "cell_type": "code",
   "execution_count": 22,
   "metadata": {},
   "outputs": [
    {
     "name": "stdout",
     "output_type": "stream",
     "text": [
      "Mano vardas yra Alisa ir man yra 30 metu.\n"
     ]
    }
   ],
   "source": [
    "formatuota_eilute = \"Mano vardas yra %s ir man yra %d metu.\" % (vardas, amzius)\n",
    "print(formatuota_eilute)"
   ]
  },
  {
   "cell_type": "code",
   "execution_count": 74,
   "metadata": {},
   "outputs": [
    {
     "name": "stdout",
     "output_type": "stream",
     "text": [
      "Imones saskaitoje Seb banke yra 3550 pinigu.\n"
     ]
    }
   ],
   "source": [
    "bankas = \"Seb\"\n",
    "pinigai = 3550\n",
    "formatuota_eilute = \"Imones saskaitoje %s banke yra %d pinigu.\" % (bankas, pinigai)\n",
    "print(formatuota_eilute)"
   ]
  },
  {
   "cell_type": "markdown",
   "metadata": {},
   "source": [
    "### Skaičių formatavimas:\n",
    "\n",
    "Formatuojant eilutes kartais reikia suformatuoti skaičius konkrečiu būdu, pvz., valdyti skaičius po kablelio, pridėti tarpų ar nulių priekyje ir pan.\n",
    "\n",
    "#### Naudojant f-eilutes:"
   ]
  },
  {
   "cell_type": "code",
   "execution_count": 23,
   "metadata": {},
   "outputs": [
    {
     "name": "stdout",
     "output_type": "stream",
     "text": [
      "123.46\n"
     ]
    }
   ],
   "source": [
    "skaicius = 123.4567\n",
    "formatuotas_skaicius = f\"{skaicius:.2f}\"\n",
    "print(formatuotas_skaicius)"
   ]
  },
  {
   "cell_type": "markdown",
   "metadata": {},
   "source": [
    "#### Naudojant `.format()` metodą:"
   ]
  },
  {
   "cell_type": "code",
   "execution_count": 24,
   "metadata": {},
   "outputs": [
    {
     "name": "stdout",
     "output_type": "stream",
     "text": [
      "123.46\n"
     ]
    }
   ],
   "source": [
    "formatuotas_skaicius = \"{:.2f}\".format(skaicius)\n",
    "print(formatuotas_skaicius)"
   ]
  },
  {
   "cell_type": "markdown",
   "metadata": {},
   "source": [
    "### Tarpai ir lygiavimas:\n",
    "\n",
    "Galite valdyti kintamųjų tarpus ir lygiavimą suformatuotose eilutėse.\n",
    "\n",
    "Naudojant f-eilutes:"
   ]
  },
  {
   "cell_type": "code",
   "execution_count": 31,
   "metadata": {},
   "outputs": [
    {
     "name": "stdout",
     "output_type": "stream",
     "text": [
      "Vardas:        Kęstutis\n",
      "Pavarde:    Januškevičius\n"
     ]
    }
   ],
   "source": [
    "vardas = \"Kęstutis\"\n",
    "pavarde = \"Januškevičius\"\n",
    "formatuota_eilute = f\"Vardas: {vardas:>15}\\nPavarde: {pavarde:>16}\"\n",
    "print(formatuota_eilute)"
   ]
  },
  {
   "cell_type": "markdown",
   "metadata": {},
   "source": [
    "Naudojant `.format()` metodą:"
   ]
  },
  {
   "cell_type": "code",
   "execution_count": 33,
   "metadata": {},
   "outputs": [
    {
     "name": "stdout",
     "output_type": "stream",
     "text": [
      "Vardas:        Bob\n"
     ]
    }
   ],
   "source": [
    "formatuota_eilute = \"Vardas: {:>10}\".format(vardas)\n",
    "print(formatuota_eilute)"
   ]
  },
  {
   "cell_type": "markdown",
   "metadata": {},
   "source": [
    "### Greita užduotis 17\n",
    "\n",
    "Sukurkite eilutę, kurioje būtų rodoma 2 stulpelių lentelės eilutės. `Kairėje pusėje` būtų tekstas iki 30 simbolių, `dešinėje pusėje` – dešinėje sulygiuotas skaičius, bendras plotis 10 simbolių ir 2 skaitmenys po kablelio. Atspausdinkite keletą pavyzdinių eilučių, užpildytų išgalvotais duomenimis."
   ]
  },
  {
   "cell_type": "code",
   "execution_count": 18,
   "metadata": {},
   "outputs": [
    {
     "name": "stdout",
     "output_type": "stream",
     "text": [
      "produktas:       kvepalai\n",
      "kaina:           175.36\n"
     ]
    }
   ],
   "source": [
    "produktas = \"kvepalai\"\n",
    "kaina = 175.36\n",
    "formatuota_eilute = f\"produktas:{\"kvepalai\":>15}\\nkaina:{kaina:>17,.2f}\"\n",
    "print(formatuota_eilute)\n"
   ]
  },
  {
   "cell_type": "markdown",
   "metadata": {},
   "source": [
    "Naudodami šiuos formatavimo įrankius savo arsenale galite tiksliai valdyti eilučių ir skaičių išvaizdą. Nesvarbu, ar rodote duomenis konsolėje, ar rašote juos į failą, ar siunčiate tinklu, šie eilučių formatavimo būdai leis pateikti duomenis tiksliai taip, kaip norite."
   ]
  },
  {
   "cell_type": "markdown",
   "metadata": {},
   "source": [
    "---\n",
    "\n",
    "## `print()` Funkcija: `sep` ir `end` Argumentai\n"
   ]
  },
  {
   "cell_type": "markdown",
   "metadata": {},
   "source": [
    "Išvesties formatavimui galime naudoti funkcijos `print()` argumentus `sep` ir `end`. `sep` argumentas pakeičia tarpą ` ` kaip skyriklį, o `end` pakeičia `\\n` naują eilutę kaip spausdinimo išvesties užbaigiklį. Pavyzdžiai:"
   ]
  },
  {
   "cell_type": "code",
   "execution_count": 17,
   "metadata": {},
   "outputs": [
    {
     "name": "stdout",
     "output_type": "stream",
     "text": [
      "Sveikas-Pasauli!"
     ]
    }
   ],
   "source": [
    "print(\"Sveikas\", \"Pasauli\", sep=\"-\", end=\"!\")"
   ]
  },
  {
   "cell_type": "code",
   "execution_count": 18,
   "metadata": {},
   "outputs": [
    {
     "name": "stdout",
     "output_type": "stream",
     "text": [
      "Pietų planas:\n",
      "- carpaccio\n",
      "- pasta\n",
      "- carne carne carne\n",
      "- insalata\n",
      "- caffe macciato\n",
      "e dolce!\n"
     ]
    }
   ],
   "source": [
    "antipasto = 'carpaccio'\n",
    "primo = 'pasta'\n",
    "secondo = 'carne carne carne'\n",
    "contorno = 'insalata'\n",
    "bebita = 'caffe macciato'\n",
    "print(\"Pietų planas:\", end=\"\\n- \")\n",
    "print(\n",
    "    antipasto, \n",
    "    primo, \n",
    "    secondo, \n",
    "    contorno, \n",
    "    bebita, \n",
    "    sep=\"\\n- \", \n",
    "    end=\"\\ne dolce!\\n\"\n",
    ")"
   ]
  },
  {
   "cell_type": "markdown",
   "metadata": {},
   "source": [
    "### Greita užduotis 18\n",
    "\n",
    "Naudokite `print` funkcijos `sep` ir `end` argumentus, kad atspausdintumėte skaičius nuo 5 iki 0, atskirtus \"... \" ir baigiant eilute `\"Pakylam!\"`."
   ]
  },
  {
   "cell_type": "code",
   "execution_count": 31,
   "metadata": {},
   "outputs": [
    {
     "name": "stdout",
     "output_type": "stream",
     "text": [
      "Menu:\n",
      "-chili_sriuba\n",
      "-pica\n",
      "-desertas\n",
      "Aciu!\n"
     ]
    }
   ],
   "source": [
    "pirmas_patekalas = \"chili_sriuba\"\n",
    "antras_patekalas = \"pica\"\n",
    "trecias_patekalas = \"desertas\"\n",
    "print(\"Menu:\", end=\"\\n-\") \n",
    "print(\n",
    "      pirmas_patekalas,\n",
    "      antras_patekalas,\n",
    "      trecias_patekalas,\n",
    "      sep=\"\\n-\",\n",
    "      end=\"\\nAciu!\\n\"\n",
    ")"
   ]
  },
  {
   "cell_type": "markdown",
   "metadata": {},
   "source": [
    "---\n",
    "\n",
    "## Išvada\n",
    "\n",
    "`Tekstinės eilutės(strings)` yra pagrindinis Python duomenų tipas ir siūlo daugybę metodų, kaip efektyviai tvarkyti tekstinius duomenis ir jais manipuliuoti. Nuo didžiųjų ir mažųjų raidžių keitimo iki eilučių paieškos ir keitimo – integruoti metodai gali padėti lengvai atlikti daugumą įprastų užduočių.\n",
    "\n",
    "Vykdydami Python kelionę susidursite su daugybe scenarijų, kai eilučių operacijos tampa kritinės. Nesvarbu, ar tai būtų vartotojo įvesties apdorojimas, duomenų iš failų skaitymas ar atsakymų iš žiniatinklio užklausų tvarkymas, geras eilučių supratimas bus neįkainojamas.\n",
    "\n",
    "Atminkite, praktika yra raktas. Kuo daugiau dirbsite su `textinėmis eilutėmis(strings)`, išbandysite įvairius metodus ir eksperimentuosite su įvairiomis operacijomis, tuo lengviau ir greičiau igysite reikalingu žinių. Taigi, skirkite laiko susipažinti su šiais metodais, naudokite juos savo projektuose ir visada mokykitės!"
   ]
  },
  {
   "cell_type": "markdown",
   "metadata": {},
   "source": [
    "---\n",
    "\n",
    "## Papildomas skaitymas"
   ]
  },
  {
   "cell_type": "markdown",
   "metadata": {},
   "source": [
    "* [Oficiali Python dokumentacija apie textines eilutes](https://docs.python.org/3/tutorial/introduction.html#text)\n",
    "* [Python Tekstinių eilučių(strings) Metodai](https://www.w3schools.com/python/python_ref_string.asp)\n",
    "* [Tekstinių eilučių Formatavimas](https://realpython.com/python-f-strings/)"
   ]
  }
 ],
 "metadata": {
  "kernelspec": {
   "display_name": "venv",
   "language": "python",
   "name": "python3"
  },
  "language_info": {
   "codemirror_mode": {
    "name": "ipython",
    "version": 3
   },
   "file_extension": ".py",
   "mimetype": "text/x-python",
   "name": "python",
   "nbconvert_exporter": "python",
   "pygments_lexer": "ipython3",
   "version": "3.12.1"
  },
  "orig_nbformat": 4
 },
 "nbformat": 4,
 "nbformat_minor": 2
}
